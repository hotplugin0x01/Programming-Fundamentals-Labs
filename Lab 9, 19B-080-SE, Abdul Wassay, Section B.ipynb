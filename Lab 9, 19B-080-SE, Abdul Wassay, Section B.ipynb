{
 "cells": [
  {
   "cell_type": "markdown",
   "metadata": {},
   "source": [
    "# 19B-080-SE, Abdul Wassay \n",
    "# Section B, 25 Dec 19"
   ]
  },
  {
   "cell_type": "markdown",
   "metadata": {},
   "source": [
    "# Examples:"
   ]
  },
  {
   "cell_type": "markdown",
   "metadata": {},
   "source": [
    "# Program 01"
   ]
  },
  {
   "cell_type": "code",
   "execution_count": 2,
   "metadata": {},
   "outputs": [
    {
     "name": "stdout",
     "output_type": "stream",
     "text": [
      "{'123-45-67', '345-67-89', '234-56-78'}\n",
      "The length of the phonebook is: 3\n",
      "The give phonebook is: {'123-45-67', '345-67-89', '234-56-78'}\n"
     ]
    }
   ],
   "source": [
    "phonebook1={'123-45-67','234-56-78','345-67-89','123-45-67','345-67-89'}\n",
    "print(phonebook1)\n",
    "set_len=len(phonebook1)\n",
    "print('The length of the phonebook is:',set_len)\n",
    "print('The give phonebook is:',phonebook1)"
   ]
  },
  {
   "cell_type": "markdown",
   "metadata": {},
   "source": [
    "# Program 02"
   ]
  },
  {
   "cell_type": "code",
   "execution_count": 6,
   "metadata": {},
   "outputs": [
    {
     "name": "stdout",
     "output_type": "stream",
     "text": [
      "{17.5, 'Usman Institute of Technology', (1, 2, 3, 4, 5, 6)}\n",
      "The length of set is: 3\n"
     ]
    }
   ],
   "source": [
    "mix_data={'Usman Institute of Technology',17.5,(1,2,3,4,5,6)}\n",
    "print(mix_data)\n",
    "set_len=len(mix_data)\n",
    "print('The length of set is:',set_len)"
   ]
  },
  {
   "cell_type": "code",
   "execution_count": 7,
   "metadata": {
    "scrolled": true
   },
   "outputs": [
    {
     "ename": "TypeError",
     "evalue": "unhashable type: 'dict'",
     "output_type": "error",
     "traceback": [
      "\u001b[1;31m---------------------------------------------------------------------------\u001b[0m",
      "\u001b[1;31mTypeError\u001b[0m                                 Traceback (most recent call last)",
      "\u001b[1;32m<ipython-input-7-993c934c8eb8>\u001b[0m in \u001b[0;36m<module>\u001b[1;34m\u001b[0m\n\u001b[1;32m----> 1\u001b[1;33m \u001b[0mmix_data\u001b[0m\u001b[1;33m=\u001b[0m\u001b[1;33m{\u001b[0m\u001b[1;33m{\u001b[0m\u001b[1;36m1\u001b[0m\u001b[1;33m:\u001b[0m\u001b[1;34m'Wassay'\u001b[0m\u001b[1;33m,\u001b[0m\u001b[1;36m2\u001b[0m\u001b[1;33m:\u001b[0m\u001b[1;34m'Sardar'\u001b[0m\u001b[1;33m}\u001b[0m\u001b[1;33m,\u001b[0m\u001b[1;33m[\u001b[0m\u001b[1;36m1\u001b[0m\u001b[1;33m,\u001b[0m\u001b[1;36m2\u001b[0m\u001b[1;33m,\u001b[0m\u001b[1;36m3\u001b[0m\u001b[1;33m,\u001b[0m\u001b[1;36m4\u001b[0m\u001b[1;33m,\u001b[0m\u001b[1;36m5\u001b[0m\u001b[1;33m,\u001b[0m\u001b[1;36m6\u001b[0m\u001b[1;33m]\u001b[0m\u001b[1;33m}\u001b[0m\u001b[1;33m\u001b[0m\u001b[1;33m\u001b[0m\u001b[0m\n\u001b[0m\u001b[0;32m      2\u001b[0m \u001b[0mprint\u001b[0m\u001b[1;33m(\u001b[0m\u001b[0mmix_data\u001b[0m\u001b[1;33m)\u001b[0m\u001b[1;33m\u001b[0m\u001b[1;33m\u001b[0m\u001b[0m\n\u001b[0;32m      3\u001b[0m \u001b[0mset_len\u001b[0m\u001b[1;33m=\u001b[0m\u001b[0mlen\u001b[0m\u001b[1;33m(\u001b[0m\u001b[0mmix_data\u001b[0m\u001b[1;33m)\u001b[0m\u001b[1;33m\u001b[0m\u001b[1;33m\u001b[0m\u001b[0m\n\u001b[0;32m      4\u001b[0m \u001b[0mprint\u001b[0m\u001b[1;33m(\u001b[0m\u001b[1;34m'The length of set is:'\u001b[0m\u001b[1;33m,\u001b[0m\u001b[0mset_len\u001b[0m\u001b[1;33m)\u001b[0m\u001b[1;33m\u001b[0m\u001b[1;33m\u001b[0m\u001b[0m\n",
      "\u001b[1;31mTypeError\u001b[0m: unhashable type: 'dict'"
     ]
    }
   ],
   "source": [
    "mix_data={{1:'Wassay',2:'Sardar'},[1,2,3,4,5,6]}\n",
    "print(mix_data)\n",
    "set_len=len(mix_data)\n",
    "print('The length of set is:',set_len)\n",
    "\n",
    "#This contains error because keys of dictionary are not hashables(immutables)."
   ]
  },
  {
   "cell_type": "markdown",
   "metadata": {},
   "source": [
    "# Program 03"
   ]
  },
  {
   "cell_type": "code",
   "execution_count": 1,
   "metadata": {},
   "outputs": [
    {
     "name": "stdout",
     "output_type": "stream",
     "text": [
      "For a Data Scientist specialization you need: {'R', 'Git', 'SAS', 'SQL', 'Tableau', 'Python'}\n",
      "For a Data Engineer specialization you need: {'Java', 'Pyhon', 'Git', 'Scala', 'SQL'}\n"
     ]
    }
   ],
   "source": [
    "datascientist=set(['Python','R','SQL','Git','SAS','Tableau'])\n",
    "dataengineer=set(['Pyhon','Java','Scala','Git','SQL'])\n",
    "print('For a Data Scientist specialization you need:',datascientist)\n",
    "print('For a Data Engineer specialization you need:',dataengineer)"
   ]
  },
  {
   "cell_type": "markdown",
   "metadata": {},
   "source": [
    "# Program 04"
   ]
  },
  {
   "cell_type": "code",
   "execution_count": 3,
   "metadata": {},
   "outputs": [
    {
     "name": "stdout",
     "output_type": "stream",
     "text": [
      "set()\n",
      "{}\n",
      "{}\n"
     ]
    }
   ],
   "source": [
    "My_empty_set=set()\n",
    "My_empty_dic1=dict()\n",
    "My_empty_dic2={}\n",
    "print(My_empty_set)\n",
    "print(My_empty_dic1)\n",
    "print(My_empty_dic2)"
   ]
  },
  {
   "cell_type": "markdown",
   "metadata": {},
   "source": [
    "# Program 05"
   ]
  },
  {
   "cell_type": "code",
   "execution_count": 8,
   "metadata": {},
   "outputs": [
    {
     "name": "stdout",
     "output_type": "stream",
     "text": [
      "My top scoring students in Programming Fundamentals are: {'Rafeh', 'Ahad', 'Yusra', 'Dawood', 'Bassam', 'Usman', 'Asma'}\n",
      "Oh! I guess i missed one student, let me add his name too.\n",
      "Previously I have added 7 students in my list.\n",
      "Thanks, I have remembered him.\n",
      "Now my top scoring students are: {'Rafeh', 'Ahad', 'Yusra', 'Dawood', 'Khurram', 'Bassam', 'Usman', 'Asma'}\n",
      "After adding i have 8 students in my list.\n"
     ]
    }
   ],
   "source": [
    "My_topStudents={'Bassam','Usman','Yusra','Rafeh','Ahad','Dawood','Asma'}\n",
    "print('My top scoring students in Programming Fundamentals are:',My_topStudents)\n",
    "print('Oh! I guess i missed one student, let me add his name too.')\n",
    "print('Previously I have added '+str(len(My_topStudents))+' students in my list.')\n",
    "My_topStudents.add('Khurram')\n",
    "print('Thanks, I have remembered him.')\n",
    "print('Now my top scoring students are:',My_topStudents)\n",
    "print('After adding i have '+str(len(My_topStudents))+' students in my list.')"
   ]
  },
  {
   "cell_type": "markdown",
   "metadata": {},
   "source": [
    "# Program 06"
   ]
  },
  {
   "cell_type": "code",
   "execution_count": 10,
   "metadata": {},
   "outputs": [
    {
     "name": "stdout",
     "output_type": "stream",
     "text": [
      "My top scoring students in Programming Fundamentals are: {'Rafeh', 'Ahad', 'Yusra', 'Dawood', 'Bassam', 'Usman', 'Asma'}\n",
      "Oh! I guess i missed one student, let me add his name too.\n",
      "Previously I have added 7 students in my list.\n",
      "Thanks, I have remembered him.\n",
      "Now my top scoring students are: {'Khurram Khan', 'Rafeh', 'Ahad', 'Khurram Khalil', 'Yusra', 'Dawood', 'Bassam', 'Usman', 'Asma'}\n",
      "After adding i have 9 students in my list.\n",
      "Oh! i think have added one student with similar name, let me remove his name.\n",
      "Now my top scoring students names after removing extra name are: {'Khurram Khan', 'Rafeh', 'Ahad', 'Yusra', 'Dawood', 'Bassam', 'Usman', 'Asma'}\n",
      "Now after removing i have 8 in my list.\n"
     ]
    }
   ],
   "source": [
    "My_topStudents={'Bassam','Usman','Yusra','Rafeh','Ahad','Dawood','Asma'}\n",
    "print('My top scoring students in Programming Fundamentals are:',My_topStudents)\n",
    "print('Oh! I guess i missed one student, let me add his name too.')\n",
    "print('Previously I have added '+str(len(My_topStudents))+' students in my list.')\n",
    "My_topStudents.add('Khurram Khalil')\n",
    "My_topStudents.add('Khurram Khan')\n",
    "print('Thanks, I have remembered him.')\n",
    "print('Now my top scoring students are:',My_topStudents)\n",
    "print('After adding i have '+str(len(My_topStudents))+' students in my list.')\n",
    "print('Oh! i think have added one student with similar name, let me remove his name.')\n",
    "My_topStudents.remove('Khurram Khalil')\n",
    "print('Now my top scoring students names after removing extra name are:',My_topStudents)\n",
    "print('Now after removing i have '+str(len(My_topStudents))+' in my list.')"
   ]
  },
  {
   "cell_type": "markdown",
   "metadata": {},
   "source": [
    "# Program 07"
   ]
  },
  {
   "cell_type": "code",
   "execution_count": 12,
   "metadata": {},
   "outputs": [
    {
     "name": "stdout",
     "output_type": "stream",
     "text": [
      "My top scoring students in Programming Fundamentals are: {'Rafeh', 'Ahad', 'Yusra', 'Dawood', 'Bassam', 'Usman', 'Asma'}\n",
      "Oh! I guess i missed one student, let me add his name too.\n",
      "Previously I have added 7 students in my list.\n",
      "Thanks, I have remembered him.\n",
      "Now my top scoring students are: {'Khurram Khan', 'Rafeh', 'Ahad', 'Khurram Khalil', 'Yusra', 'Dawood', 'Bassam', 'Usman', 'Asma'}\n",
      "After adding i have 9 students in my list.\n",
      "Oh! i think have added one student with similar name, let me remove his name.\n",
      "Now my top scoring students names after removing extra name are: {'Khurram Khan', 'Rafeh', 'Ahad', 'Yusra', 'Dawood', 'Bassam', 'Usman', 'Asma'}\n",
      "Now after removing i have 8 in my list.\n",
      "Now my top scoring students names after removing extra name are: {'Rafeh', 'Ahad', 'Yusra', 'Dawood', 'Bassam', 'Usman', 'Asma'}\n",
      "Now after removing i have 7 students in my list.\n"
     ]
    }
   ],
   "source": [
    "My_topStudents={'Bassam','Usman','Yusra','Rafeh','Ahad','Dawood','Asma'}\n",
    "print('My top scoring students in Programming Fundamentals are:',My_topStudents)\n",
    "print('Oh! I guess i missed one student, let me add his name too.')\n",
    "print('Previously I have added '+str(len(My_topStudents))+' students in my list.')\n",
    "My_topStudents.add('Khurram Khalil')\n",
    "My_topStudents.add('Khurram Khan')\n",
    "print('Thanks, I have remembered him.')\n",
    "print('Now my top scoring students are:',My_topStudents)\n",
    "print('After adding i have '+str(len(My_topStudents))+' students in my list.')\n",
    "print('Oh! i think have added one student with similar name, let me remove his name.')\n",
    "My_topStudents.remove('Khurram Khalil')\n",
    "print('Now my top scoring students names after removing extra name are:',My_topStudents)\n",
    "print('Now after removing i have '+str(len(My_topStudents))+' in my list.')\n",
    "My_topStudents.discard('Khurram Khan')\n",
    "print('Now my top scoring students names after removing extra name are:',My_topStudents)\n",
    "print('Now after removing i have '+str(len(My_topStudents))+' students in my list.')"
   ]
  },
  {
   "cell_type": "markdown",
   "metadata": {},
   "source": [
    ">In the given codings of program 06 and 07, we have used two different types of removing elements from set. But in program 07 we have used both methods of removing elements from list on the same element (Khurram Khalil) this why it isn't showing any difference but in the above coding i have changed the element."
   ]
  },
  {
   "cell_type": "markdown",
   "metadata": {},
   "source": [
    "# Program 08"
   ]
  },
  {
   "cell_type": "code",
   "execution_count": 13,
   "metadata": {},
   "outputs": [
    {
     "name": "stdout",
     "output_type": "stream",
     "text": [
      "My top scoring students in Programming Fundamentals are: {'Rafeh', 'Ahad', 'Yusra', 'Dawood', 'Bassam', 'Usman', 'Asma'}\n",
      "Oh! I guess i missed one student, let me add his name too.\n",
      "Previously I have added 7 students in my list.\n",
      "Thanks, I have remembered him.\n",
      "Now my top scoring students are: {'Khurram Khan', 'Rafeh', 'Ahad', 'Khurram Khalil', 'Yusra', 'Dawood', 'Bassam', 'Usman', 'Asma'}\n",
      "After adding i have 9 students in my list.\n",
      "Oh! i think have added one student with similar name, let me remove his name.\n",
      "Now my top scoring students names after removing extra name are: {'Khurram Khan', 'Rafeh', 'Ahad', 'Yusra', 'Dawood', 'Bassam', 'Usman', 'Asma'}\n",
      "Now after removing i have 8 in my list.\n",
      "Now my top scoring students names after removing extra name are: {'Rafeh', 'Ahad', 'Yusra', 'Dawood', 'Bassam', 'Usman', 'Asma'}\n",
      "Now after removing i have 7 students in my list.\n",
      "Now my top scoring students names after removing extra name are {'Ahad', 'Yusra', 'Dawood', 'Bassam', 'Usman', 'Asma'}\n",
      "Now after removing i have 6 students in my list.\n"
     ]
    }
   ],
   "source": [
    "My_topStudents={'Bassam','Usman','Yusra','Rafeh','Ahad','Dawood','Asma'}\n",
    "print('My top scoring students in Programming Fundamentals are:',My_topStudents)\n",
    "print('Oh! I guess i missed one student, let me add his name too.')\n",
    "print('Previously I have added '+str(len(My_topStudents))+' students in my list.')\n",
    "My_topStudents.add('Khurram Khalil')\n",
    "My_topStudents.add('Khurram Khan')\n",
    "print('Thanks, I have remembered him.')\n",
    "print('Now my top scoring students are:',My_topStudents)\n",
    "print('After adding i have '+str(len(My_topStudents))+' students in my list.')\n",
    "print('Oh! i think have added one student with similar name, let me remove his name.')\n",
    "My_topStudents.remove('Khurram Khalil')\n",
    "print('Now my top scoring students names after removing extra name are:',My_topStudents)\n",
    "print('Now after removing i have '+str(len(My_topStudents))+' in my list.')\n",
    "My_topStudents.discard('Khurram Khan')\n",
    "print('Now my top scoring students names after removing extra name are:',My_topStudents)\n",
    "print('Now after removing i have '+str(len(My_topStudents))+' students in my list.')\n",
    "My_topStudents.pop()\n",
    "print('Now my top scoring students names after removing extra name are',My_topStudents)\n",
    "print('Now after removing i have '+str(len(My_topStudents))+' students in my list.')"
   ]
  },
  {
   "cell_type": "markdown",
   "metadata": {},
   "source": [
    "# Prgram 09"
   ]
  },
  {
   "cell_type": "code",
   "execution_count": 16,
   "metadata": {},
   "outputs": [
    {
     "name": "stdout",
     "output_type": "stream",
     "text": [
      "My top scoring students in Programming Fundamentals are: {'Rafeh', 'Ahad', 'Yusra', 'Dawood', 'Bassam', 'Usman', 'Asma'}\n",
      "Lets clear this list and prepare new list for final exams.\n",
      "After clearing the set i have: None\n"
     ]
    }
   ],
   "source": [
    "My_topStudents={'Bassam','Usman','Yusra','Rafeh','Ahad','Dawood','Asma'}\n",
    "print('My top scoring students in Programming Fundamentals are:',My_topStudents)\n",
    "print('Lets clear this list and prepare new list for final exams.')\n",
    "My_topStudents=My_topStudents.clear()\n",
    "print('After clearing the set i have:',My_topStudents)"
   ]
  },
  {
   "cell_type": "markdown",
   "metadata": {},
   "source": [
    "# Program 10"
   ]
  },
  {
   "cell_type": "code",
   "execution_count": 22,
   "metadata": {},
   "outputs": [
    {
     "name": "stdout",
     "output_type": "stream",
     "text": [
      "Phonebook1 is: {'234-56-78', '345-67-89', '123-45-67'}\n",
      "Phonebook3 is: {'345-67-89', '456-78-90'}\n",
      "The Union of phonebook1 and phonebook3 is: {'456-78-90', '234-56-78', '345-67-89', '123-45-67'}\n",
      "The union of phonebook3 and phonebook1 is: {'456-78-90', '234-56-78', '345-67-89', '123-45-67'}\n",
      "The intersection of phonebook1 and phonebook3 is: {'345-67-89'}\n",
      "The intersection of phonebook3 and phonebook1 is: {'345-67-89'}\n",
      "The difference between phonebook1 and phonebook3 is: {'234-56-78', '123-45-67'}\n",
      "The difference between phonebook3 and phonebook1 is: {'456-78-90'}\n",
      "The symmetric difference between phonebook1 and phonebook3 is: {'123-45-67', '456-78-90', '234-56-78'}\n",
      "The symmetric difference between phonebook3 and phonebook1 is: {'234-56-78', '456-78-90', '123-45-67'}\n"
     ]
    }
   ],
   "source": [
    "phonebook1={'123-45-67','234-56-78','345-67-89','123-45-67','345-67-89'}\n",
    "phonebook3={'345-67-89','456-78-90'}\n",
    "print('Phonebook1 is:',phonebook1)\n",
    "print('Phonebook3 is:',phonebook3)\n",
    "print('The Union of phonebook1 and phonebook3 is:',phonebook1 | phonebook3)\n",
    "print('The union of phonebook3 and phonebook1 is:',phonebook3 | phonebook1)\n",
    "print('The intersection of phonebook1 and phonebook3 is:',phonebook1 & phonebook3)\n",
    "print('The intersection of phonebook3 and phonebook1 is:',phonebook3 & phonebook1)\n",
    "print('The difference between phonebook1 and phonebook3 is:',phonebook1 - phonebook3)\n",
    "print('The difference between phonebook3 and phonebook1 is:',phonebook3 - phonebook1)\n",
    "print('The symmetric difference between phonebook1 and phonebook3 is:',phonebook1 ^ phonebook3)\n",
    "print('The symmetric difference between phonebook3 and phonebook1 is:',phonebook3 ^ phonebook1)"
   ]
  },
  {
   "cell_type": "markdown",
   "metadata": {},
   "source": [
    "# Problems:"
   ]
  },
  {
   "cell_type": "markdown",
   "metadata": {},
   "source": [
    "# Q.01"
   ]
  },
  {
   "cell_type": "code",
   "execution_count": 1,
   "metadata": {},
   "outputs": [
    {
     "name": "stdout",
     "output_type": "stream",
     "text": [
      "Enter the student name: Ali\n",
      "Enter the student name: Hamza\n",
      "Enter the student name: Arslan\n",
      "Enter the student name: Aqsa\n",
      "Enter the student name: Asma\n",
      "The five best students are: {'Asma', 'Hamza', 'Arslan', 'Aqsa', 'Ali'}\n"
     ]
    }
   ],
   "source": [
    "bestStudents=set()\n",
    "while len(bestStudents)<5:\n",
    "    name=input('Enter the student name: ')\n",
    "    bestStudents.add(name)\n",
    "print('The five best students are:',bestStudents)"
   ]
  },
  {
   "cell_type": "markdown",
   "metadata": {},
   "source": [
    "# Q.02"
   ]
  },
  {
   "cell_type": "code",
   "execution_count": 24,
   "metadata": {},
   "outputs": [
    {
     "name": "stdout",
     "output_type": "stream",
     "text": [
      "The best students are: {'Ali', 'Hamza', 'Arslan', 'Aqsa', 'Asma'}\n",
      "Enter the name of best students who left UIT: Hamza\n",
      "Enter the name of best students who left UIT: Aqsa\n",
      "After removing two students who left UIT, we have: {'Ali', 'Arslan', 'Asma'}\n"
     ]
    }
   ],
   "source": [
    "bestStudents={'Ali','Hamza','Arslan','Aqsa','Asma'}\n",
    "print('The best students are:',bestStudents)\n",
    "n=0\n",
    "while n<2:\n",
    "    name=input('Enter the name of best students who left UIT: ')\n",
    "    bestStudents.remove(ask)\n",
    "    n+=1\n",
    "    break\n",
    "print('After removing two students who left UIT, we have:',bestStudents)"
   ]
  },
  {
   "cell_type": "markdown",
   "metadata": {},
   "source": [
    "# Q.03"
   ]
  },
  {
   "cell_type": "code",
   "execution_count": 7,
   "metadata": {},
   "outputs": [
    {
     "name": "stdout",
     "output_type": "stream",
     "text": [
      "Enter the name of best dish: Biryani\n",
      "Do you  want to add another dish?(y/n): y\n",
      "Enter the name of best dish: Shahi Daal\n",
      "Do you  want to add another dish?(y/n): y\n",
      "Enter the name of best dish: Qeema\n",
      "Do you  want to add another dish?(y/n): y\n",
      "Enter the name of best dish: Mix Sabzi\n",
      "Do you  want to add another dish?(y/n): y\n",
      "Enter the name of best dish: Vegetable Pulao\n",
      "Do you  want to add another dish?(y/n): y\n",
      "Enter the name of best dish: Nihari\n",
      "Do you  want to add another dish?(y/n): n\n",
      "The length of dishes list is: 6 and the list is: {'Nihari', 'Biryani', 'Mix Sabzi', 'Qeema', 'Vegetable Pulao', 'Shahi Daal'}\n",
      "After poping 1 dishe(s) from list we have: {'Biryani', 'Mix Sabzi', 'Qeema', 'Vegetable Pulao', 'Shahi Daal'}\n",
      "After poping 2 dishe(s) from list we have: {'Mix Sabzi', 'Qeema', 'Vegetable Pulao', 'Shahi Daal'}\n",
      "After poping 3 dishe(s) from list we have: {'Qeema', 'Vegetable Pulao', 'Shahi Daal'}\n",
      "After poping 4 dishe(s) from list we have: {'Vegetable Pulao', 'Shahi Daal'}\n",
      "After poping 5 dishe(s) from list we have: {'Shahi Daal'}\n",
      "After poping 6 dishe(s) from list we have: set()\n",
      "The list is empty: set()\n"
     ]
    }
   ],
   "source": [
    "best_dishes=set()\n",
    "while True:\n",
    "    dish=input('Enter the name of best dish: ')\n",
    "    best_dishes.add(dish)\n",
    "    ask=input('Do you  want to add another dish?(y/n): ')\n",
    "    if ask=='y':\n",
    "        continue\n",
    "    else:\n",
    "        break\n",
    "print('The length of dishes list is: '+str(len(best_dishes))+' and the list is:',best_dishes)\n",
    "n=0\n",
    "while len(best_dishes)>0:\n",
    "    best_dishes.pop()\n",
    "    n+=1\n",
    "    print('After poping '+str(n)+' dishe(s) from list we have:',best_dishes)\n",
    "print('The list is empty:',best_dishes)"
   ]
  },
  {
   "cell_type": "markdown",
   "metadata": {},
   "source": [
    "# Q.04"
   ]
  },
  {
   "cell_type": "code",
   "execution_count": 1,
   "metadata": {},
   "outputs": [
    {
     "name": "stdout",
     "output_type": "stream",
     "text": [
      "there are 40 students\n",
      "Students who play cricket only are: 9\n",
      "Students who play hocket only are: 21\n",
      "Those who play both: 10\n"
     ]
    }
   ],
   "source": [
    "univ_set = set(['a','b','c','d','e','f','g','h','i','j','k','l','m','n','o','p','q','r','s','t','u','v','w','x','y','z','A','B','C','D','E','F','G','H','I','J','K','L','M','N'])\n",
    "student_hockey = set(['a','b','c','d','e','f','g','h','i','j','k','l','m','n','o','p','q','r','s','t','u'])\n",
    "both_student = set(['v','w','x','y','z','A','B','C','D','E'])\n",
    "student_cricket = set()\n",
    "a = univ_set-student_hockey\n",
    "student_cricket.update(a-both_student)\n",
    "print('there are '+str(len(univ_set))+' students')\n",
    "print('Students who play cricket only are: '+str(len(student_cricket)))\n",
    "print('Students who play hocket only are: '+str(len(student_hockey)))\n",
    "print('Those who play both: '+str(len(both_student)))"
   ]
  },
  {
   "cell_type": "markdown",
   "metadata": {},
   "source": [
    "# Q.05"
   ]
  },
  {
   "cell_type": "code",
   "execution_count": 5,
   "metadata": {},
   "outputs": [
    {
     "name": "stdout",
     "output_type": "stream",
     "text": [
      "those who can speak english and spanish but not french are: {(english_speakers|spanish_speakers)-french_speakers}\n",
      "those who neither speak english ,spanish, nor french are: {total_speakers-sum(english_speakers|spanish_speakers|french_speakers)}\n",
      "those who speak french,but neither english nor spanish: {11}\n",
      "those who speak only one of the three languages: {25, 10, 11}\n",
      "those who speak exactly two of the three languages: {17, 20, 9}\n"
     ]
    }
   ],
   "source": [
    "total_speakers = 110\n",
    "english_speakers = {25,20,17,13}\n",
    "spanish_speakers = {20,13,9,10}\n",
    "french_speakers = {17,13,9,11}\n",
    "\n",
    "#(a)\n",
    "print(f'those who can speak english and spanish but not french are: '\n",
    "      '{(english_speakers|spanish_speakers)-french_speakers}')\n",
    "\n",
    "#(b)\n",
    "print(f'those who neither speak english ,spanish, nor french are: '\n",
    "      '{total_speakers-sum(english_speakers|spanish_speakers|french_speakers)}')\n",
    "\n",
    "#(c)\n",
    "print(f'those who speak french,but neither english nor spanish: {french_speakers-(english_speakers|spanish_speakers)}')\n",
    "\n",
    "#(d)\n",
    "single_set=set()\n",
    "single_set.update(english_speakers-(spanish_speakers|french_speakers))\n",
    "single_set.update(spanish_speakers-(english_speakers|french_speakers))\n",
    "single_set.update(french_speakers-(english_speakers|spanish_speakers))\n",
    "print(f'those who speak only one of the three languages: {single_set}')\n",
    "\n",
    "#(e)\n",
    "double_set=set()\n",
    "double_set.update((english_speakers&spanish_speakers)-french_speakers)\n",
    "double_set.update((english_speakers&french_speakers)-spanish_speakers)\n",
    "double_set.update((french_speakers&spanish_speakers)-english_speakers)\n",
    "print(f'those who speak exactly two of the three languages: {double_set}')"
   ]
  },
  {
   "cell_type": "code",
   "execution_count": null,
   "metadata": {},
   "outputs": [],
   "source": []
  }
 ],
 "metadata": {
  "kernelspec": {
   "display_name": "Python 3",
   "language": "python",
   "name": "python3"
  },
  "language_info": {
   "codemirror_mode": {
    "name": "ipython",
    "version": 3
   },
   "file_extension": ".py",
   "mimetype": "text/x-python",
   "name": "python",
   "nbconvert_exporter": "python",
   "pygments_lexer": "ipython3",
   "version": "3.7.3"
  }
 },
 "nbformat": 4,
 "nbformat_minor": 2
}
