{
 "cells": [
  {
   "cell_type": "markdown",
   "metadata": {},
   "source": [
    "# 19B-080-SE, Abdul Wassay\n",
    "# Section B, 23 Oct"
   ]
  },
  {
   "cell_type": "markdown",
   "metadata": {},
   "source": [
    "# Program 01"
   ]
  },
  {
   "cell_type": "code",
   "execution_count": 1,
   "metadata": {},
   "outputs": [
    {
     "name": "stdout",
     "output_type": "stream",
     "text": [
      "Enter Your Name: Abdul Wassay\n",
      "Enter Your Age: 18\n",
      "You will 100 years old in  2101\n"
     ]
    }
   ],
   "source": [
    "n=input(\"Enter Your Name: \")\n",
    "a=int(input(\"Enter Your Age: \"))\n",
    "y=str((2019-a)+100)\n",
    "print(\"You will 100 years old in \",y)"
   ]
  },
  {
   "cell_type": "markdown",
   "metadata": {},
   "source": [
    "# Program 02"
   ]
  },
  {
   "cell_type": "code",
   "execution_count": 12,
   "metadata": {},
   "outputs": [
    {
     "name": "stdout",
     "output_type": "stream",
     "text": [
      "Twinkle, twinkle, little star, \n",
      "\tHow I wonder what you are! \n",
      "\t\tUp above the world so high,\n",
      "\t\tLike a diamond in the sky. \n",
      "Twinkle, twinkle, little star, \n",
      "\tHow I wonder what you are!\n"
     ]
    }
   ],
   "source": [
    "print('Twinkle, twinkle, little star, \\n\\tHow I wonder what you are! \\n\\t\\tUp above the world so high,'\n",
    "      '\\n\\t\\tLike a diamond in the sky. \\nTwinkle, twinkle, little star, \\n\\tHow I wonder what you are!')"
   ]
  },
  {
   "cell_type": "markdown",
   "metadata": {},
   "source": [
    "# Program 03"
   ]
  },
  {
   "cell_type": "code",
   "execution_count": 11,
   "metadata": {},
   "outputs": [
    {
     "name": "stdout",
     "output_type": "stream",
     "text": [
      "Current date and time: \n",
      "2020-01-07 00:08:34\n"
     ]
    }
   ],
   "source": [
    "import datetime\n",
    "now=datetime.datetime.now()\n",
    "print('Current date and time: ')\n",
    "print(now.strftime('%Y-%m-%d %H:%M:%S'))"
   ]
  },
  {
   "cell_type": "markdown",
   "metadata": {},
   "source": [
    "# Program 04"
   ]
  },
  {
   "cell_type": "code",
   "execution_count": 7,
   "metadata": {},
   "outputs": [
    {
     "name": "stdout",
     "output_type": "stream",
     "text": [
      "Enter te radius of circle: 2\n",
      "The area of circle with radius 2.0 is: 12.566370614359172\n"
     ]
    }
   ],
   "source": [
    "from math import pi\n",
    "r=float(input('Enter te radius of circle: '))\n",
    "print('The area of circle with radius '+str(r)+' is: '+str(pi*r**2))"
   ]
  },
  {
   "cell_type": "markdown",
   "metadata": {},
   "source": [
    "# Program 05"
   ]
  },
  {
   "cell_type": "code",
   "execution_count": 3,
   "metadata": {},
   "outputs": [
    {
     "name": "stdout",
     "output_type": "stream",
     "text": [
      "Enter your first name: Wassay\n",
      "Enter you last name: Sardar\n",
      "Hello  WASSAY  SARDAR\n"
     ]
    }
   ],
   "source": [
    "FN=input(\"Enter your first name: \")\n",
    "LN=input(\"Enter you last name: \")\n",
    "print(\"Hello \" + FN.upper(),\"\",LN.upper())"
   ]
  },
  {
   "cell_type": "markdown",
   "metadata": {},
   "source": [
    "# Program 06"
   ]
  },
  {
   "cell_type": "code",
   "execution_count": 1,
   "metadata": {},
   "outputs": [
    {
     "name": "stdout",
     "output_type": "stream",
     "text": [
      "Input the Year: 2019\n",
      "Input the month: 11\n",
      "   November 2019\n",
      "Mo Tu We Th Fr Sa Su\n",
      "             1  2  3\n",
      " 4  5  6  7  8  9 10\n",
      "11 12 13 14 15 16 17\n",
      "18 19 20 21 22 23 24\n",
      "25 26 27 28 29 30\n",
      "\n"
     ]
    }
   ],
   "source": [
    "import calendar\n",
    "y=int(input('Input the Year: '))\n",
    "m=int(input('Input the month: '))\n",
    "print(calendar.month(y,m))"
   ]
  },
  {
   "cell_type": "markdown",
   "metadata": {},
   "source": [
    "# Problems: "
   ]
  },
  {
   "cell_type": "markdown",
   "metadata": {},
   "source": [
    "# Task 1"
   ]
  },
  {
   "cell_type": "code",
   "execution_count": 22,
   "metadata": {},
   "outputs": [
    {
     "name": "stdout",
     "output_type": "stream",
     "text": [
      "Enter Temperature in Clesius:30\n",
      "Temperature: 30 Celsius= 86.0 F\n"
     ]
    }
   ],
   "source": [
    "Celsius= int(input(\"Enter Temperature in Clesius: \"))\n",
    "Fahrenheit= Celsius * (9.0 / 5.0) + 32\n",
    "print (\"Temperature: \", Celsius, \"Celsius: \", Fahrenheit, \"F\")"
   ]
  },
  {
   "cell_type": "markdown",
   "metadata": {},
   "source": [
    "# Task 2"
   ]
  },
  {
   "cell_type": "code",
   "execution_count": 5,
   "metadata": {},
   "outputs": [
    {
     "name": "stdout",
     "output_type": "stream",
     "text": [
      "Enter Temperature in Fahrenheit45\n",
      "Temperature: 45 Fahrenheit= 7.222222222222222 C\n"
     ]
    }
   ],
   "source": [
    "Fahrenheit= int(input(\"Enter Temperature in Fahrenheit\"))\n",
    "Celsius= (Fahrenheit - 32) * 5.0/9.0\n",
    "print (\"Temperature:\", Fahrenheit, \"Fahrenheit=\", Celsius, \"C\")"
   ]
  },
  {
   "cell_type": "markdown",
   "metadata": {},
   "source": [
    "# Task 3"
   ]
  },
  {
   "cell_type": "code",
   "execution_count": 6,
   "metadata": {},
   "outputs": [
    {
     "name": "stdout",
     "output_type": "stream",
     "text": [
      "Enter the Base of the rectangle:45\n",
      "Enter the Width of Triangle:23\n",
      "The Area of Rectangle is 1035\n"
     ]
    }
   ],
   "source": [
    "Base= int(input(\"Enter the Base of the rectangle:\"))\n",
    "Width= int(input(\"Enter the Width of Triangle:\"))\n",
    "Area= Base * Width\n",
    "print (\"The Area of Rectangle is\", Area)\n"
   ]
  },
  {
   "cell_type": "markdown",
   "metadata": {},
   "source": [
    "# Task 4"
   ]
  },
  {
   "cell_type": "code",
   "execution_count": 7,
   "metadata": {},
   "outputs": [
    {
     "name": "stdout",
     "output_type": "stream",
     "text": [
      "Enter the Radius of Sphere:34\n",
      "The Volume of Sphere is 164657.55733333333\n"
     ]
    }
   ],
   "source": [
    "R= int(input(\"Enter the Radius of Sphere:\"))\n",
    "V= (4/3) * 3.142 * R * R * R\n",
    "print (\"The Volume of Sphere is\", V)"
   ]
  },
  {
   "cell_type": "markdown",
   "metadata": {},
   "source": [
    "# Task 5"
   ]
  },
  {
   "cell_type": "code",
   "execution_count": 8,
   "metadata": {},
   "outputs": [
    {
     "name": "stdout",
     "output_type": "stream",
     "text": [
      "Enter a name in any case:hahHAHAHahahHa\n",
      "HAHHAHAHAHAHHA hahhahahahahha Hahhahahahahha\n"
     ]
    }
   ],
   "source": [
    "Text= input(\"Enter a name in any case:\")\n",
    "print (Text.upper(), Text.lower(), Text.title())"
   ]
  },
  {
   "cell_type": "markdown",
   "metadata": {},
   "source": [
    "# The End"
   ]
  }
 ],
 "metadata": {
  "kernelspec": {
   "display_name": "Python 3",
   "language": "python",
   "name": "python3"
  },
  "language_info": {
   "codemirror_mode": {
    "name": "ipython",
    "version": 3
   },
   "file_extension": ".py",
   "mimetype": "text/x-python",
   "name": "python",
   "nbconvert_exporter": "python",
   "pygments_lexer": "ipython3",
   "version": "3.7.3"
  }
 },
 "nbformat": 4,
 "nbformat_minor": 2
}
