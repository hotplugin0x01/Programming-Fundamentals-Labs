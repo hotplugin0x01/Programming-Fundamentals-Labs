{
 "cells": [
  {
   "cell_type": "markdown",
   "metadata": {},
   "source": [
    "# Abdul Wassay, 19B-080-SE\n",
    "# Section B, 27 Nov 2019"
   ]
  },
  {
   "cell_type": "markdown",
   "metadata": {},
   "source": [
    "# Problem 01"
   ]
  },
  {
   "cell_type": "code",
   "execution_count": 13,
   "metadata": {},
   "outputs": [
    {
     "name": "stdout",
     "output_type": "stream",
     "text": [
      "Wednesday, November 27 2019\n"
     ]
    }
   ],
   "source": [
    "#(a)\n",
    "from time import strftime\n",
    "t=strftime(\"%A, %B %d %Y\")\n",
    "print(t)"
   ]
  },
  {
   "cell_type": "code",
   "execution_count": 14,
   "metadata": {},
   "outputs": [
    {
     "name": "stdout",
     "output_type": "stream",
     "text": [
      "03:09PM Pakistan Standard Time on Nov/27/2019\n"
     ]
    }
   ],
   "source": [
    "#(b)\n",
    "from time import strftime\n",
    "t=strftime(\"%I:%M%p %Z on %b/%d/%Y\")\n",
    "print(t)"
   ]
  },
  {
   "cell_type": "code",
   "execution_count": 16,
   "metadata": {},
   "outputs": [
    {
     "name": "stdout",
     "output_type": "stream",
     "text": [
      "I will meet you on Wed November 27 at 03:13PM\n"
     ]
    }
   ],
   "source": [
    "#(c)\n",
    "import time\n",
    "message=strftime('I will meet you on %a %B %d at %I:%M%p')\n",
    "print(message)"
   ]
  },
  {
   "cell_type": "markdown",
   "metadata": {},
   "source": [
    "# Problem 02"
   ]
  },
  {
   "cell_type": "code",
   "execution_count": 24,
   "metadata": {},
   "outputs": [
    {
     "data": {
      "text/plain": [
       "2"
      ]
     },
     "execution_count": 24,
     "metadata": {},
     "output_type": "execute_result"
    }
   ],
   "source": [
    "def ques(x):\n",
    "    c=x.count('day')\n",
    "    return c\n",
    "forecast='It will be a sunny day today'\n",
    "ques(forecast)"
   ]
  },
  {
   "cell_type": "code",
   "execution_count": 30,
   "metadata": {},
   "outputs": [
    {
     "data": {
      "text/plain": [
       "13"
      ]
     },
     "execution_count": 30,
     "metadata": {},
     "output_type": "execute_result"
    }
   ],
   "source": [
    "#(b)\n",
    "def weather(y):\n",
    "    f=y.find('sunny')\n",
    "    return f\n",
    "forcast='It will be a sunny day today'\n",
    "weather(forecast)"
   ]
  },
  {
   "cell_type": "code",
   "execution_count": 31,
   "metadata": {},
   "outputs": [
    {
     "data": {
      "text/plain": [
       "'It will be a cloudy day today'"
      ]
     },
     "execution_count": 31,
     "metadata": {},
     "output_type": "execute_result"
    }
   ],
   "source": [
    "#(c)\n",
    "def change(x):\n",
    "    c=x.replace('sunny','cloudy')\n",
    "    return c\n",
    "forecast='It will be a sunny day today'\n",
    "change(forecast)"
   ]
  },
  {
   "cell_type": "markdown",
   "metadata": {},
   "source": [
    "# Problem 03"
   ]
  },
  {
   "cell_type": "code",
   "execution_count": 65,
   "metadata": {},
   "outputs": [
    {
     "name": "stdout",
     "output_type": "stream",
     "text": [
      "Enter an ending point: 17\n",
      "2 3 4 6 8 9 10 12 14 15 16 "
     ]
    }
   ],
   "source": [
    "def even(x):\n",
    "    for i in range(2,x):\n",
    "        if i%2==0 or i%3==0:\n",
    "            print(i,end=' ')\n",
    "endpoint=int(input('Enter an ending point: '))\n",
    "even(endpoint)"
   ]
  },
  {
   "cell_type": "markdown",
   "metadata": {},
   "source": [
    "# Problem 04"
   ]
  },
  {
   "cell_type": "code",
   "execution_count": 26,
   "metadata": {},
   "outputs": [
    {
     "name": "stdout",
     "output_type": "stream",
     "text": [
      "Enter your first name: Wassay \n",
      "Enter your last name: Sardar\n",
      "Enter your designation: Student\n",
      "Enter your city name: Nawabshah\n",
      "Enter your zip code: 67410\n",
      "--------------------------------------\n",
      " Name: Wassay Sardar\n",
      " Designation: Student\n",
      " City: Nawabshah\n",
      " Zip: 67410\n",
      "\n"
     ]
    }
   ],
   "source": [
    "def mailing():\n",
    "    fname=input('Enter your first name: ')\n",
    "    lname=input('Enter your last name: ')\n",
    "    desig=input('Enter your designation: ')\n",
    "    city=input('Enter your city name: ')\n",
    "    code=input('Enter your zip code: ')\n",
    "    print('--------------------------------------')\n",
    "    print(' Name: {}\\n Designation: {}\\n City: {}\\n Zip: {}\\n'.format(fname+lname,desig,city,code))\n",
    "mailing()"
   ]
  },
  {
   "cell_type": "markdown",
   "metadata": {},
   "source": [
    "# Problem 05"
   ]
  },
  {
   "cell_type": "code",
   "execution_count": 15,
   "metadata": {},
   "outputs": [
    {
     "name": "stdout",
     "output_type": "stream",
     "text": [
      "Enter number of month: 2\n"
     ]
    },
    {
     "data": {
      "text/plain": [
       "'Feb'"
      ]
     },
     "execution_count": 15,
     "metadata": {},
     "output_type": "execute_result"
    }
   ],
   "source": [
    "def month(n):\n",
    "    months={1:'Jan',2:'Feb',3:'Mar',4:'Apr',5:'May',6:'Jun',7:'Jul',8:'Aug',9:'Sep',10:'Oct',11:'Nov',12:'Dec'}\n",
    "    n=months[n]\n",
    "    return n\n",
    "n=int(input('Enter number of month: '))\n",
    "month(n)"
   ]
  },
  {
   "cell_type": "markdown",
   "metadata": {},
   "source": [
    "# Problem 06"
   ]
  },
  {
   "cell_type": "code",
   "execution_count": 28,
   "metadata": {},
   "outputs": [
    {
     "name": "stdout",
     "output_type": "stream",
     "text": [
      "\n",
      "How you spell the winner!\n",
      "I know!, I know!\n",
      "S! A! N! G! H! R! I! T! E! S! \n",
      "And thats how we spell winner!\n",
      "Go SANGHRITES! Go!\n"
     ]
    }
   ],
   "source": [
    "def cheers(x):\n",
    "    s=''\n",
    "    print('\\nHow you spell the winner!')\n",
    "    print('I know!, I know!')\n",
    "    for i in x:\n",
    "        s+=i+'!'\n",
    "        s+=' '\n",
    "    print(s)\n",
    "    print('And thats how we spell winner!')\n",
    "    print('Go {}! Go!'.format(x))\n",
    "x='SANGHRITES'\n",
    "cheers(x)"
   ]
  },
  {
   "cell_type": "markdown",
   "metadata": {},
   "source": [
    "# Problem 07"
   ]
  },
  {
   "cell_type": "code",
   "execution_count": 10,
   "metadata": {},
   "outputs": [
    {
     "name": "stdout",
     "output_type": "stream",
     "text": [
      "\t\t\tWELCOME TO KFC\n",
      "-------------------------------------------------------------\n",
      "Crunchy Burger = | Rs.350\n",
      "Chessy Burger = | Rs.400\n",
      "King Burger = | Rs.500\n",
      "Hammer Burger = | Rs.300\n",
      "Fries = | Rs.100\n",
      "Drink = | Rs.50\n",
      "-------------------------------------------------------------\n",
      "Enter your name: Abdul Wassay\n",
      "Do you want anything (Yes or No): yes\n",
      "What do you want: Fries\n",
      "How many? 3\n",
      "Do you want anything else (Yes or No): no\n",
      "\n",
      "\n",
      "-----------------------------------------------------------------------------------------------\n",
      "\t\t\t\t\t\t\tBILL\n",
      "------------------------------------------------------------------------------------------------\n",
      "\t\t\tUsername: Abdul Wassay \t\t\tDate:  07 January 2020\n",
      "\n",
      "---------------------------------------------------------------------------------------------------\n",
      "\t\t\tItem Name:\t\tprice: \tQuantity:\n",
      "\t\t\tFries\t\t100\t3\n",
      "---------------------------------------------------------------------------------------------------\n",
      "\n",
      "\t\t\tTotal Amount: 339\n",
      "---------------------------------------------------------------------------------------------------\n"
     ]
    }
   ],
   "source": [
    "import math\n",
    "import time\n",
    "item = int(0)\n",
    "def point_of_sale():\n",
    "    print(\"\\t\\t\\tWELCOME TO KFC\")\n",
    "    print(\"-------------------------------------------------------------\")\n",
    "    print(\"Crunchy Burger = | Rs.350\")\n",
    "    print(\"Chessy Burger = | Rs.400\")\n",
    "    print(\"King Burger = | Rs.500\")\n",
    "    print(\"Hammer Burger = | Rs.300\")\n",
    "    print(\"Fries = | Rs.100\")\n",
    "    print(\"Drink = | Rs.50\" )\n",
    "    print(\"-------------------------------------------------------------\")\n",
    "    return\n",
    "point_of_sale()\n",
    "username = str(input(\"Enter your name: \"))\n",
    "lst = []\n",
    "# loop for getting order from user\n",
    "x = str(input(\"Do you want anything (Yes or No): \"))\n",
    "x = x.capitalize()\n",
    "while x == \"Yes\":\n",
    "    user_input = str(input(\"What do you want: \"))\n",
    "    User_Input = user_input.title()\n",
    "    quantity = int(input(\"How many? \"))\n",
    "    x = str(input(\"Do you want anything else (Yes or No): \"))\n",
    "    x = x.capitalize()\n",
    "    if User_Input == \"Crunchy Burger\":\n",
    "        rate = 350\n",
    "\n",
    "    elif User_Input == \"Cheesy Burger\":\n",
    "        rate = 400\n",
    "\n",
    "    elif User_Input == \"King Burger\":\n",
    "        rate = 500\n",
    "\n",
    "    elif User_Input == \"Hammer Burger\":\n",
    "        rate = 300\n",
    "\n",
    "    elif User_Input == \"Fries\":\n",
    "        rate = 100\n",
    "\n",
    "    elif User_Input == \"Cold Drink\":\n",
    "        rate = 50\n",
    "\n",
    "    amount = rate * quantity\n",
    "\n",
    "    GST_Amount = (amount * 13) / 100\n",
    "    net_amount = amount + GST_Amount\n",
    "    Net_Amount = math.ceil(net_amount)\n",
    "    item = item + Net_Amount\n",
    "    y =User_Input,rate,quantity,amount\n",
    "    lst.append(y)\n",
    "print(\"\\n\\n-----------------------------------------------------------------------------------------------\")\n",
    "print(\"\\t\\t\\t\\t\\t\\t\\tBILL\")\n",
    "print(\"------------------------------------------------------------------------------------------------\")\n",
    "print(\"\\t\\t\\tUsername:\",username,\"\\t\\t\\tDate: \",time.strftime(\"%d %B %Y\\n\"))\n",
    "print(\"---------------------------------------------------------------------------------------------------\")\n",
    "print(\"\\t\\t\\tItem Name:\\t\\tprice: \\tQuantity:\")\n",
    "for x in lst:\n",
    "    print(\"\\t\\t\\t\",x[0],\"\\t\\t\",x[1],\"\\t\",x[2],sep ='')\n",
    "print(\"---------------------------------------------------------------------------------------------------\")\n",
    "print(\"\\n\\t\\t\\tTotal Amount:\",item)\n",
    "print(\"---------------------------------------------------------------------------------------------------\")"
   ]
  },
  {
   "cell_type": "markdown",
   "metadata": {},
   "source": [
    "# Problem 08"
   ]
  },
  {
   "cell_type": "code",
   "execution_count": 29,
   "metadata": {},
   "outputs": [
    {
     "name": "stdout",
     "output_type": "stream",
     "text": [
      "Enter start point: 5\n",
      "Enter end point: 10\n",
      "Binary: 101 Decimal: 5 Octal: 5 Hexa: 5\n",
      "Binary: 110 Decimal: 6 Octal: 6 Hexa: 6\n",
      "Binary: 111 Decimal: 7 Octal: 7 Hexa: 7\n",
      "Binary: 1000 Decimal: 8 Octal: 10 Hexa: 8\n",
      "Binary: 1001 Decimal: 9 Octal: 11 Hexa: 9\n"
     ]
    }
   ],
   "source": [
    "def table(start,end):\n",
    "    nums='Binary: {:b} Decimal: {:d} Octal: {:o} Hexa: {:X}'\n",
    "    for i in range(start,end):\n",
    "        print(nums.format(i,i,i,i),end='')\n",
    "        print('')\n",
    "start=int(input('Enter start point: '))\n",
    "end=int(input('Enter end point: '))\n",
    "table(start,end)"
   ]
  },
  {
   "cell_type": "markdown",
   "metadata": {},
   "source": [
    "# Problem 09"
   ]
  },
  {
   "cell_type": "code",
   "execution_count": 8,
   "metadata": {},
   "outputs": [
    {
     "name": "stdout",
     "output_type": "stream",
     "text": [
      "For how many students you want to print reciept: 1\n",
      "Enter name: Abdul Wassay\n",
      "Enter Roll No: 14150\n",
      "Enter Semester: 1\n",
      "Enter Semester fees: 90000\n",
      "Enter Miscellaneous fees: 2000\n",
      "Enter Sports fees per semester: 0\n",
      "Enter paying amount: 90000\n",
      "\t\t\t\tStudent Copy\n",
      "-------------------------------------------------------------\n",
      "\tName:\t\t  Abdul Wassay \n",
      "\tRollNo: \t\t 14150 \n",
      "\tSemester:\t \t 1 \n",
      "\tSemester fee\t  90000 \n",
      "\tMiscellaneous fee  2000 \n",
      "\tSports fee:\t  0 \n",
      "\tTotal Amount:\t  92000 \n",
      "\tpaid:\t\t  90000 \n",
      "\tChange:\t\t  -2000\n",
      "\t\t\t\tUniversity Copy\n",
      "-------------------------------------------------------------\n",
      "\tName:\t\t  Abdul Wassay \n",
      "\tRollNo: \t\t 14150 \n",
      "\tSemester:\t \t 1 \n",
      "\tSemester fee\t  90000 \n",
      "\tMiscellaneous fee  2000 \n",
      "\tSports fee:\t  0 \n",
      "\tTotal Amount:\t  92000 \n",
      "\tpaid:\t\t  90000 \n",
      "\tChange:\t\t  -2000\n",
      "\t\t\t\tBank Copy\n",
      "-------------------------------------------------------------\n",
      "\tName:\t\t  Abdul Wassay \n",
      "\tRollNo: \t\t 14150 \n",
      "\tSemester:\t \t 1 \n",
      "\tSemester fee\t  90000 \n",
      "\tMiscellaneous fee  2000 \n",
      "\tSports fee:\t  0 \n",
      "\tTotal Amount:\t  92000 \n",
      "\tpaid:\t\t  90000 \n",
      "\tChange:\t\t  -2000\n"
     ]
    }
   ],
   "source": [
    "num=int(input(\"For how many students you want to print reciept: \"))\n",
    "for i in range(0,num):\n",
    "\n",
    "    name= str(input(\"Enter name: \"))\n",
    "    roll= int(input(\"Enter Roll No: \"))\n",
    "    sem= int(input(\"Enter Semester: \"))\n",
    "    sem_fee= int(input(\"Enter Semester fees: \"))\n",
    "    m_fee= int(input(\"Enter Miscellaneous fees: \"))\n",
    "    sport= int(input(\"Enter Sports fees per semester: \"))\n",
    "    paying=int(input(\"Enter paying amount: \"))\n",
    "#{\"Name\":name,\"RollNo\":roll,\"Semester\":sem,\"Semester fees\":sem_fee,\"Miscellaneous fees\":m_fee,\"Sports\":sport}\n",
    "    amount = sem_fee+m_fee+sport\n",
    "    total = amount\n",
    "    change = paying-amount\n",
    "    print(\"\\t\\t\\t\\tStudent Copy\\n-------------------------------------------------------------\")\n",
    "    print(\"\\tName:\\t\\t \",name,\"\\n\\tRollNo: \\t\\t\",roll,\"\\n\\tSemester:\\t \\t\",sem,\n",
    "          \"\\n\\tSemester fee\\t \",sem_fee,\"\\n\\tMiscellaneous fee \",m_fee,\"\\n\\tSports fee:\\t \",sport,\n",
    "          \"\\n\\tTotal Amount:\\t \",amount,\"\\n\\tpaid:\\t\\t \",paying,\"\\n\\tChange:\\t\\t \",change)\n",
    "    print(\"\\t\\t\\t\\tUniversity Copy\\n-------------------------------------------------------------\")\n",
    "    print(\"\\tName:\\t\\t \",name,\"\\n\\tRollNo: \\t\\t\",roll,\"\\n\\tSemester:\\t \\t\",sem,\n",
    "          \"\\n\\tSemester fee\\t \",sem_fee,\"\\n\\tMiscellaneous fee \",m_fee,\"\\n\\tSports fee:\\t \",\n",
    "          sport,\"\\n\\tTotal Amount:\\t \",amount,\"\\n\\tpaid:\\t\\t \",paying,\"\\n\\tChange:\\t\\t \",change)\n",
    "    print(\"\\t\\t\\t\\tBank Copy\\n-------------------------------------------------------------\")\n",
    "    print(\"\\tName:\\t\\t \",name,\"\\n\\tRollNo: \\t\\t\",roll,\"\\n\\tSemester:\\t \\t\",sem,\n",
    "          \"\\n\\tSemester fee\\t \",sem_fee,\"\\n\\tMiscellaneous fee \",m_fee,\"\\n\\tSports fee:\\t \",sport,\n",
    "          \"\\n\\tTotal Amount:\\t \",amount,\"\\n\\tpaid:\\t\\t \",paying,\"\\n\\tChange:\\t\\t \",change)"
   ]
  }
 ],
 "metadata": {
  "kernelspec": {
   "display_name": "Python 3",
   "language": "python",
   "name": "python3"
  },
  "language_info": {
   "codemirror_mode": {
    "name": "ipython",
    "version": 3
   },
   "file_extension": ".py",
   "mimetype": "text/x-python",
   "name": "python",
   "nbconvert_exporter": "python",
   "pygments_lexer": "ipython3",
   "version": "3.7.3"
  }
 },
 "nbformat": 4,
 "nbformat_minor": 2
}
