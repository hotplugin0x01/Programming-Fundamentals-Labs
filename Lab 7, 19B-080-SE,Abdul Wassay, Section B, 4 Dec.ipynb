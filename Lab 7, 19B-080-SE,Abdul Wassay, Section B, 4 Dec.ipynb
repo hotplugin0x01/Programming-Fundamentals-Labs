{
 "cells": [
  {
   "cell_type": "markdown",
   "metadata": {},
   "source": [
    "# 19B-080-SE, Abdul Wassay\n",
    "# Section B, 4 Dec 2019"
   ]
  },
  {
   "cell_type": "markdown",
   "metadata": {},
   "source": [
    "# Program 01"
   ]
  },
  {
   "cell_type": "code",
   "execution_count": 4,
   "metadata": {},
   "outputs": [
    {
     "data": {
      "text/plain": [
       "45"
      ]
     },
     "execution_count": 4,
     "metadata": {},
     "output_type": "execute_result"
    }
   ],
   "source": [
    "def numChars(name):\n",
    "    'This function returns the number of characters in file'\n",
    "    infile=open(name,'r')\n",
    "    content=infile.read()\n",
    "    infile.close()\n",
    "    return len(content)\n",
    "numChars('example.txt')"
   ]
  },
  {
   "cell_type": "markdown",
   "metadata": {},
   "source": [
    "# Program 02"
   ]
  },
  {
   "cell_type": "code",
   "execution_count": 13,
   "metadata": {},
   "outputs": [
    {
     "data": {
      "text/plain": [
       "15"
      ]
     },
     "execution_count": 13,
     "metadata": {},
     "output_type": "execute_result"
    }
   ],
   "source": [
    "def numWords(name):\n",
    "    'This function returns the number of words in given file.'\n",
    "    infile=open(name,'r')\n",
    "    content=infile.read()\n",
    "    infile.close()\n",
    "    word=content.split()\n",
    "    return len(word)\n",
    "numWords('example.txt')"
   ]
  },
  {
   "cell_type": "markdown",
   "metadata": {},
   "source": [
    "# Problems:"
   ]
  },
  {
   "cell_type": "markdown",
   "metadata": {},
   "source": [
    "# Q.01"
   ]
  },
  {
   "cell_type": "code",
   "execution_count": 31,
   "metadata": {},
   "outputs": [
    {
     "name": "stdout",
     "output_type": "stream",
     "text": [
      "Number of Lines: 2\n",
      "Number of Characters: 61\n",
      "Number of Words: 13\n"
     ]
    }
   ],
   "source": [
    "def stats(name):\n",
    "    infile=open(name,'r')\n",
    "    content=infile.read()\n",
    "    infile.close()\n",
    "    lines_list=content.split('\\n')\n",
    "    words=content.split()\n",
    "    print('Number of Lines:',len(lines_list))\n",
    "    print('Number of Characters:',len(content))\n",
    "    print('Number of Words:',len(words))\n",
    "    \n",
    "stats('example.txt')"
   ]
  },
  {
   "cell_type": "markdown",
   "metadata": {},
   "source": [
    "# Q.02"
   ]
  },
  {
   "cell_type": "code",
   "execution_count": 29,
   "metadata": {},
   "outputs": [
    {
     "name": "stdout",
     "output_type": "stream",
     "text": [
      "3 Students Got A\n",
      "1 Students Got B-\n",
      "2 Students Got B+\n",
      "1 Students Got F\n",
      "1 Students Got C-\n",
      "2 Students Got A-\n"
     ]
    }
   ],
   "source": [
    "def distribution(name):\n",
    "    infile=open(name,'r')\n",
    "    content=infile.read()\n",
    "    infile.close()\n",
    "    n=0\n",
    "    content=content.split()\n",
    "    for char in content:\n",
    "        c=content.count(char)\n",
    "        content.remove(char)\n",
    "        print(c,'Students Got',char)\n",
    "        n=n+c\n",
    "    return\n",
    "distribution('grades.txt')"
   ]
  },
  {
   "cell_type": "markdown",
   "metadata": {},
   "source": [
    "# Q.03"
   ]
  },
  {
   "cell_type": "code",
   "execution_count": 26,
   "metadata": {},
   "outputs": [
    {
     "name": "stdout",
     "output_type": "stream",
     "text": [
      "True\n"
     ]
    }
   ],
   "source": [
    "def duplicate(filename):\n",
    "    infile=open(filename,'r')\n",
    "    content=infile.read()\n",
    "    infile.close()\n",
    "    content=content.split()\n",
    "    for i in content:\n",
    "        if (content.count(i))>2:\n",
    "            print(\"False\")\n",
    "            break\n",
    "        else:\n",
    "            print(\"True\")\n",
    "            break\n",
    "            \n",
    "duplicate('duplicate.txt')"
   ]
  },
  {
   "cell_type": "markdown",
   "metadata": {},
   "source": [
    "# Q.04"
   ]
  },
  {
   "cell_type": "code",
   "execution_count": 25,
   "metadata": {},
   "outputs": [],
   "source": [
    "def abc(filename):\n",
    "    infile= open(filename,'r')\n",
    "    outfile= open('abc.txt','w+')\n",
    "    content = infile.read()\n",
    "    infile.close()\n",
    "    content = content.split()\n",
    "    for i in content:\n",
    "        if len(i) == 4:\n",
    "            ind = content.index(i)\n",
    "            content.remove(i)\n",
    "            content.insert(ind,\"xxxx\")\n",
    "    content = str(content)\n",
    "    content = content.replace(',','')\n",
    "    table = str.maketrans('[]','  ')\n",
    "    content = content.replace('[','')\n",
    "    content = content.replace(']','')\n",
    "    content = content.replace('\\'','')\n",
    "    outfile.write(str(content))\n",
    "    outfile.close()\n",
    "    return\n",
    "\n",
    "abc('example.txt')"
   ]
  }
 ],
 "metadata": {
  "kernelspec": {
   "display_name": "Python 3",
   "language": "python",
   "name": "python3"
  },
  "language_info": {
   "codemirror_mode": {
    "name": "ipython",
    "version": 3
   },
   "file_extension": ".py",
   "mimetype": "text/x-python",
   "name": "python",
   "nbconvert_exporter": "python",
   "pygments_lexer": "ipython3",
   "version": "3.7.3"
  }
 },
 "nbformat": 4,
 "nbformat_minor": 2
}
