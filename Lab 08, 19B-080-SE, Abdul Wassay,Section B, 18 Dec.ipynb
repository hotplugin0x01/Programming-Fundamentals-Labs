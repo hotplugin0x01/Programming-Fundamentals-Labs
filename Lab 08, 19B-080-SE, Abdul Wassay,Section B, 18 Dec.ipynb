{
 "cells": [
  {
   "cell_type": "markdown",
   "metadata": {},
   "source": [
    "# 19B-080-SE, Abdul Wassay\n",
    "# Section B, 18 Dec "
   ]
  },
  {
   "cell_type": "markdown",
   "metadata": {},
   "source": [
    "# Exercises:"
   ]
  },
  {
   "cell_type": "markdown",
   "metadata": {},
   "source": [
    "# 01."
   ]
  },
  {
   "cell_type": "code",
   "execution_count": 6,
   "metadata": {},
   "outputs": [
    {
     "name": "stdout",
     "output_type": "stream",
     "text": [
      "Name: Abdul Wassay\n",
      "Age: 18\n",
      "DOB: 20 December 2001\n",
      "Class: Software Engineering\n"
     ]
    }
   ],
   "source": [
    "dict={'Name':'Abdul Wassay','Age':'18','Class':'Software Engineering','DOB':'20 December 2001'}\n",
    "print('Name:',dict['Name'])\n",
    "print('Age:',dict['Age'])\n",
    "print('DOB:',dict['DOB'])\n",
    "print('Class:',dict['Class'])"
   ]
  },
  {
   "cell_type": "markdown",
   "metadata": {},
   "source": [
    "# 02."
   ]
  },
  {
   "cell_type": "code",
   "execution_count": 12,
   "metadata": {},
   "outputs": [
    {
     "name": "stdout",
     "output_type": "stream",
     "text": [
      "Abdul Wassay\n",
      "18\n",
      "Software Engineering\n",
      "20 December 2001\n"
     ]
    }
   ],
   "source": [
    "dict={'Name':'Abdul Wassay','Age':'18','Class':'Software Engineering','DOB':'20 December 2001'}\n",
    "for x in dict:\n",
    "    print(dict[x])"
   ]
  },
  {
   "cell_type": "markdown",
   "metadata": {},
   "source": [
    "# 03."
   ]
  },
  {
   "cell_type": "code",
   "execution_count": 3,
   "metadata": {},
   "outputs": [
    {
     "name": "stdout",
     "output_type": "stream",
     "text": [
      "Abdul Wassay\n",
      "18\n",
      "Software Engineering\n",
      "20 December 2001\n"
     ]
    }
   ],
   "source": [
    "dict={'Name':'Abdul Wassay','Age':'18','Class':'Software Engineering','DOB':'20 December 2001'}\n",
    "for x in dict.values():\n",
    "    print(x)"
   ]
  },
  {
   "cell_type": "markdown",
   "metadata": {},
   "source": [
    "# 04."
   ]
  },
  {
   "cell_type": "code",
   "execution_count": 10,
   "metadata": {},
   "outputs": [
    {
     "name": "stdout",
     "output_type": "stream",
     "text": [
      "Name Abdul Wassay\n",
      "Age 18\n",
      "Class Software Engineering\n",
      "DOB 20 December 2001\n"
     ]
    }
   ],
   "source": [
    "dict={'Name':'Abdul Wassay','Age':'18','Class':'Software Engineering','DOB':'20 December 2001'}\n",
    "for (x,y) in dict.items():\n",
    "    print(x,y)"
   ]
  },
  {
   "cell_type": "markdown",
   "metadata": {},
   "source": [
    "# 05."
   ]
  },
  {
   "cell_type": "code",
   "execution_count": 11,
   "metadata": {},
   "outputs": [
    {
     "name": "stdout",
     "output_type": "stream",
     "text": [
      "Yes, Age is one of the keys of dictionary\n"
     ]
    }
   ],
   "source": [
    "dict={'Name':'Abdul Wassay','Age':'18','Class':'Software Engineering','DOB':'20 December 2001'}\n",
    "if 'Age' in dict:\n",
    "    print('Yes, Age is one of the keys of dictionary')\n",
    "else:\n",
    "    print('No such a key found')"
   ]
  },
  {
   "cell_type": "markdown",
   "metadata": {},
   "source": [
    "# 06."
   ]
  },
  {
   "cell_type": "code",
   "execution_count": 19,
   "metadata": {},
   "outputs": [
    {
     "name": "stdout",
     "output_type": "stream",
     "text": [
      "Age: 18.5\n",
      "University: UIT\n",
      "Friend1: Ayaz Latif\n",
      "Friend2: Asif Ghafoor\n",
      "Friend3: Pervez Musharraf\n"
     ]
    }
   ],
   "source": [
    "dict={'Name':'Abdul Wassay','Age':'18','Class':'Software Engineering','DOB':'20 December 2001'}\n",
    "dict['Age']='18.5'\n",
    "dict['University']='UIT'\n",
    "print('Age:',dict['Age'])\n",
    "print('University:',dict['University'])\n",
    "dict['Friend1']='Ayaz Latif'\n",
    "dict['Friend2']='Asif Ghafoor'\n",
    "dict['Friend3']='Pervez Musharraf'\n",
    "print('Friend1:',dict['Friend1'])\n",
    "print('Friend2:',dict['Friend2'])\n",
    "print('Friend3:',dict['Friend3'])"
   ]
  },
  {
   "cell_type": "markdown",
   "metadata": {},
   "source": [
    "# 07."
   ]
  },
  {
   "cell_type": "code",
   "execution_count": 20,
   "metadata": {},
   "outputs": [
    {
     "name": "stdout",
     "output_type": "stream",
     "text": [
      "Name Abdul Wassay\n",
      "Age 18\n",
      "Class Software Engineering\n",
      "DOB 20 December 2001\n",
      "University UIT\n",
      "Friend1 Ayaz Latif\n",
      "Friend2 Malik Abid\n",
      "Friend3 Arslan Ahmed\n",
      "{'Name': 'Abdul Wassay', 'Age': '18', 'Class': 'Software Engineering', 'DOB': '20 December 2001', 'University': 'UIT', 'Friend2': 'Malik Abid', 'Friend3': 'Arslan Ahmed'}\n"
     ]
    }
   ],
   "source": [
    "dict={'Name':'Abdul Wassay','Age':'18','Class':'Software Engineering','DOB':'20 December 2001','University':'UIT',\n",
    "     'Friend1':'Ayaz Latif','Friend2':'Malik Abid','Friend3':'Arslan Ahmed'}\n",
    "for x,y in dict.items():\n",
    "    print(x,y)\n",
    "dict.pop('Friend1')\n",
    "print(dict)"
   ]
  },
  {
   "cell_type": "markdown",
   "metadata": {},
   "source": [
    "# 08."
   ]
  },
  {
   "cell_type": "code",
   "execution_count": 24,
   "metadata": {},
   "outputs": [
    {
     "name": "stdout",
     "output_type": "stream",
     "text": [
      "Age: 18.5\n",
      "University: UIT\n",
      "Friend1: Ayaz Latif\n",
      "Friend2: Asif Ghafoor\n",
      "Friend3: Pervez Musharraf\n",
      "--------------------------------\n",
      "Before deleting: {'Name': 'Abdul Wassay', 'Age': '18.5', 'Class': 'Software Engineering', 'DOB': '20 December 2001', 'University': 'UIT', 'Friend1': 'Ayaz Latif', 'Friend2': 'Asif Ghafoor', 'Friend3': 'Pervez Musharraf'}\n",
      "--------------------------------\n",
      "After deleting Friend1: {'Name': 'Abdul Wassay', 'Age': '18.5', 'Class': 'Software Engineering', 'DOB': '20 December 2001', 'University': 'UIT', 'Friend2': 'Asif Ghafoor', 'Friend3': 'Pervez Musharraf'}\n"
     ]
    }
   ],
   "source": [
    "dict={'Name':'Abdul Wassay','Age':'18','Class':'Software Engineering','DOB':'20 December 2001'}\n",
    "dict['Age']='18.5'\n",
    "dict['University']='UIT'\n",
    "print('Age:',dict['Age'])\n",
    "print('University:',dict['University'])\n",
    "dict['Friend1']='Ayaz Latif'\n",
    "dict['Friend2']='Asif Ghafoor'\n",
    "dict['Friend3']='Pervez Musharraf'\n",
    "print('Friend1:',dict['Friend1'])\n",
    "print('Friend2:',dict['Friend2'])\n",
    "print('Friend3:',dict['Friend3'])\n",
    "print('--------------------------------')\n",
    "print('Before deleting:',dict)\n",
    "print('--------------------------------')\n",
    "del dict['Friend1']\n",
    "print('After deleting Friend1:',dict)"
   ]
  },
  {
   "cell_type": "markdown",
   "metadata": {},
   "source": [
    "# 09."
   ]
  },
  {
   "cell_type": "code",
   "execution_count": 25,
   "metadata": {},
   "outputs": [
    {
     "name": "stdout",
     "output_type": "stream",
     "text": [
      "Name Abdul Wassay\n",
      "Age 18\n",
      "Class Software Engineering\n",
      "DOB 20 December 2001\n",
      "University UIT\n",
      "Friend1 Ayaz Latif\n",
      "Friend2 Malik Abid\n",
      "Friend3 Arslan Ahmed\n",
      "After popping the values are:\n",
      "{'Name': 'Abdul Wassay', 'Age': '18', 'Class': 'Software Engineering', 'DOB': '20 December 2001', 'University': 'UIT', 'Friend1': 'Ayaz Latif', 'Friend2': 'Malik Abid'}\n"
     ]
    }
   ],
   "source": [
    "dict={'Name':'Abdul Wassay','Age':'18','Class':'Software Engineering','DOB':'20 December 2001','University':'UIT',\n",
    "     'Friend1':'Ayaz Latif','Friend2':'Malik Abid','Friend3':'Arslan Ahmed'}\n",
    "for x,y in dict.items():\n",
    "    print(x,y)\n",
    "print('After popping the values are:')\n",
    "dict.popitem()\n",
    "print(dict)"
   ]
  },
  {
   "cell_type": "markdown",
   "metadata": {},
   "source": [
    "# 10."
   ]
  },
  {
   "cell_type": "code",
   "execution_count": 1,
   "metadata": {},
   "outputs": [
    {
     "name": "stdout",
     "output_type": "stream",
     "text": [
      "{1: {'name': 'S Faisal Ali', 'experience': '22', 'gender': 'Male'}, 2: {'name': 'Dr. Wasim', 'experience': '23', 'gender': 'Male'}, 3: {'name': 'Dr. Lubaid', 'experience': '23', 'gender': 'Male'}, 4: {'name': 'Noor ul Huda', 'experience': '3', 'gender': 'Female'}, 5: {'name': 'Parkash Lohana', 'experience': '10', 'gender': 'Male'}, 6: {'name': 'Fauzan Saeed', 'experience': '15', 'gender': 'Male'}}\n"
     ]
    }
   ],
   "source": [
    "faculty={1:{'name':'S Faisal Ali','experience':'22','gender':'Male'},\n",
    "        2:{'name':'Dr. Wasim','experience':'23','gender':'Male'},\n",
    "        3:{'name':'Dr. Lubaid','experience':'23','gender':'Male'},\n",
    "        4:{'name':'Noor ul Huda','experience':'3','gender':'Female'},\n",
    "        5:{'name':'Parkash Lohana','experience':'10','gender':'Male'},\n",
    "        6:{'name':'Fauzan Saeed','experience':'15','gender':'Male'}}\n",
    "print(faculty)"
   ]
  },
  {
   "cell_type": "markdown",
   "metadata": {},
   "source": [
    "# Problems:"
   ]
  },
  {
   "cell_type": "markdown",
   "metadata": {},
   "source": [
    "# Q.01"
   ]
  },
  {
   "cell_type": "code",
   "execution_count": 28,
   "metadata": {},
   "outputs": [
    {
     "name": "stdout",
     "output_type": "stream",
     "text": [
      "{'Name': 'A. Wassay Sardar', 'Father': 'Sardar Ahmed', 'Mother': 'Liza', 'Brother': 'A. Rafay Sardar', 'Sister': 'Ellen'}\n",
      "----------------------\n",
      "{'Name': 'A. Wassay Sardar', 'Father': 'Sardar Ahmed', 'Mother': 'Liza', 'Brother': 'A. Rafay Sardar', 'Sister': 'Ellen', 'Uncle(P)': 'John', 'Grand Father': 'M.Ali', 'Grand Mother': 'Sofia', 'Uncle(M)': 'Osama'}\n"
     ]
    }
   ],
   "source": [
    "family={'Name':'A. Wassay Sardar','Father':'Sardar Ahmed','Mother':'Liza',\n",
    "        'Brother':'A. Rafay Sardar','Sister':'Ellen'}\n",
    "print(family)\n",
    "family['Uncle(P)']='John'\n",
    "family['Grand Father']='M.Ali'\n",
    "family['Grand Mother']='Sofia'\n",
    "family['Uncle(M)']='Osama'\n",
    "print('----------------------')\n",
    "print(family)"
   ]
  },
  {
   "cell_type": "markdown",
   "metadata": {},
   "source": [
    "# Q.02"
   ]
  },
  {
   "cell_type": "code",
   "execution_count": 2,
   "metadata": {},
   "outputs": [
    {
     "name": "stdout",
     "output_type": "stream",
     "text": [
      "Enter the name: Wassay\n",
      "Enter the number: 123456\n",
      "{'Wassay': '123456'}\n",
      "Do you want to add another contact?(y/n): y\n",
      "Enter the name: Rafay\n",
      "Enter the number: 567889\n",
      "{'Wassay': '123456', 'Rafay': '567889'}\n",
      "Do you want to add another contact?(y/n): y\n",
      "Enter the name: Ali\n",
      "Enter the number: 65487\n",
      "{'Wassay': '123456', 'Rafay': '567889', 'Ali': '65487'}\n",
      "Do you want to add another contact?(y/n): n\n",
      "Enter the name you want to delete: Ali\n",
      "The remaining conatacts are: 2\n",
      "Do you want to delete any other number?(y/n): y\n",
      "Enter the name you want to delete: Rafay\n",
      "The remaining conatacts are: 1\n",
      "Do you want to delete any other number?(y/n): n\n"
     ]
    }
   ],
   "source": [
    "phone={}\n",
    "def add_num(name,num):\n",
    "    phone[name]=num\n",
    "    print(phone)\n",
    "while True:\n",
    "    name=input('Enter the name: ')\n",
    "    num=input('Enter the number: ')\n",
    "    add_num(name,num)\n",
    "    ask=input('Do you want to add another contact?(y/n): ')\n",
    "    if ask=='y':\n",
    "        continue\n",
    "    else:\n",
    "        break\n",
    "        \n",
    "def del_num(name):\n",
    "    del phone[name]\n",
    "    print('The remaining conatacts are:',len(phone))\n",
    "while True:\n",
    "    name=input('Enter the name you want to delete: ')\n",
    "    del_num(name)\n",
    "    ask=input('Do you want to delete any other number?(y/n): ')\n",
    "    if ask=='y':\n",
    "        continue\n",
    "    else:\n",
    "        break"
   ]
  },
  {
   "cell_type": "markdown",
   "metadata": {},
   "source": [
    "# Q.03"
   ]
  },
  {
   "cell_type": "code",
   "execution_count": 5,
   "metadata": {},
   "outputs": [
    {
     "name": "stdout",
     "output_type": "stream",
     "text": [
      "{'a': '0x61', 'b': '0x62', 'c': '0x63', 'd': '0x64', 'e': '0x65', 'f': '0x66', 'g': '0x67', 'h': '0x68', 'i': '0x69', 'j': '0x6a', 'k': '0x6b', 'l': '0x6c', 'm': '0x6d', 'n': '0x6e', 'o': '0x6f', 'p': '0x70', 'q': '0x71', 'r': '0x72', 's': '0x73', 't': '0x74', 'u': '0x75', 'v': '0x76', 'w': '0x77', 'x': '0x78', 'y': '0x79', 'z': '0x7a'}\n"
     ]
    }
   ],
   "source": [
    "def hexASCII(abc):\n",
    "    n = 97\n",
    "    for key in abc.keys():\n",
    "        abc[key] = hex(n)\n",
    "        n += 1\n",
    "    print(abc)\n",
    "\n",
    "alphas={'a':\"\",'b':\"\",'c':\"\",'d':\"\",'e':\"\",'f':\"\",'g':\"\",'h':\"\",'i':\"\",'j':\"\",'k':\"\",'l':\"\",'m':\"\",'n':\"\",\n",
    "       'o':\"\",'p':\"\",'q':\"\",'r':\"\",'s':\"\",'t':\"\",'u':\"\",'v':\"\",'w':\"\",'x':\"\",'y':\"\",'z':\"\"}\n",
    "hexASCII(alphas)\n"
   ]
  },
  {
   "cell_type": "markdown",
   "metadata": {},
   "source": [
    "# Q.04"
   ]
  },
  {
   "cell_type": "code",
   "execution_count": 41,
   "metadata": {},
   "outputs": [
    {
     "name": "stdout",
     "output_type": "stream",
     "text": [
      "The dishes cooked of your choices this week are ['Chicken Qorma', 'Biryani', 'Biryani', 'Daal Chawal', 'Aaloo Qeema']\n",
      "The Number of dishes your choice cooked this week are 5\n"
     ]
    }
   ],
   "source": [
    "dishes={1:{'Mon':'Shahi Daal','Tue':'Chicken Qorma','Wed':'Biryani','Thu':'Mix Sabzi','Fri':'Daal Chawal',\n",
    "                'Sat':'Aaloo Qeema','Sun':'Beef Biryani'},\n",
    "       2:{'Mon':'Biryani','Tue':'Chicken Qorma','Wed':'Biryani','Thu':'Bhindi','Fri':'Daal Chawal',\n",
    "               'Sat':'Sabzi Mix','Sun':'Aaloo Qeema'}}\n",
    "choice=0\n",
    "dishes_list=[]\n",
    "for choices in dishes[1].values():\n",
    "    for cooked in dishes[2].values():\n",
    "        if choices==cooked:\n",
    "            dishes_list.append(choices)\n",
    "            choice=choice+1\n",
    "print('The dishes cooked of your choices this week are',dishes_list)\n",
    "print('The Number of dishes your choice cooked this week are',choice)"
   ]
  },
  {
   "cell_type": "markdown",
   "metadata": {},
   "source": [
    "# Q.05"
   ]
  },
  {
   "cell_type": "code",
   "execution_count": 3,
   "metadata": {},
   "outputs": [
    {
     "name": "stdout",
     "output_type": "stream",
     "text": [
      "Numbers of families: 2\n",
      "Numbers of Total Members: 5\n"
     ]
    }
   ],
   "source": [
    "my_list={'Ahmed':{1:'Ali',2:'Arslan'},'Fahad':{1:'Hamza',2:'Abid',3:'Haris',4:'Shokat'},\n",
    "         'Aqsa':{1:'Shakila',2:'Wajid'},'Haji':{1:'Ali',2:'Usama'}}\n",
    "p_list={'Faisal':{1:'Ayesha',2:'Raheela',3:'Azka'},'Fahad':{1:'Hamza',2:'Abid'},\n",
    "        'Ahmed':{1:'Aqsa',2:'Jameela',3:'Kamra'},'Shoukat':{1:'Shoukat',2:'Haris'}}\n",
    "families=0\n",
    "total=0\n",
    "if len(my_list) > len(p_list):\n",
    "    for mem in my_list.keys():\n",
    "        if mem in p_list.keys():\n",
    "            total+=len(p_list[mem])\n",
    "            families+=1\n",
    "    print('Numbers of families:',c)\n",
    "else:\n",
    "    for mem in p_list.keys():\n",
    "        if mem in my_list.keys():\n",
    "            total+=len(p_list[mem])\n",
    "            families+= 1\n",
    "    print('Numbers of families:',families)\n",
    "    print('Numbers of Total Members:',total)"
   ]
  }
 ],
 "metadata": {
  "kernelspec": {
   "display_name": "Python 3",
   "language": "python",
   "name": "python3"
  },
  "language_info": {
   "codemirror_mode": {
    "name": "ipython",
    "version": 3
   },
   "file_extension": ".py",
   "mimetype": "text/x-python",
   "name": "python",
   "nbconvert_exporter": "python",
   "pygments_lexer": "ipython3",
   "version": "3.7.3"
  }
 },
 "nbformat": 4,
 "nbformat_minor": 2
}
