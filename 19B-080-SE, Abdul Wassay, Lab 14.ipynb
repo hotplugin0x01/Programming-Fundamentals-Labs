{
 "cells": [
  {
   "cell_type": "markdown",
   "metadata": {},
   "source": [
    "# 19B-080-SE, Abdul Wassay\n",
    "# Section B Lab 14"
   ]
  },
  {
   "cell_type": "markdown",
   "metadata": {},
   "source": [
    "# Q.01"
   ]
  },
  {
   "cell_type": "code",
   "execution_count": 3,
   "metadata": {},
   "outputs": [],
   "source": [
    "import sqlite3\n",
    "conn = sqlite3.connect('wassay.db')\n",
    "def sql_table(con):\n",
    "    cursorObj=con.cursor()\n",
    "#(a)Insert Records\n",
    "    cursorObj.execute(\"CREATE TABLE IF NOT EXISTS Classmates(Studentid INTEGER PRIMARY KEY,Name TEXT,Address TEXT,Department TEXT,Age REAL,DOB REAL,Hobbies TEXT,Number INTEGER)\")\n",
    "    cursorObj.execute(\"INSERT INTO Classmates VALUES(1, 'Ali','Sukkur','SE',18,'2001-03-10','Swimming',03434565512)\")\n",
    "    cursorObj.execute(\"INSERT INTO Classmates VALUES(2, 'Hamza','Karachi','CS',19,'2002-09-01','Traveling',03245345654)\")\n",
    "    cursorObj.execute(\"INSERT INTO Classmates VALUES(3, 'Ayesha','Karachi','SE',18,'1999-05-21','Book Reading',03234323456)\")\n",
    "    cursorObj.execute(\"INSERT INTO Classmates VALUES(4, 'Asad','Lahore','CS',17,'2001-03-10','Programming',03254125485)\")\n",
    "    cursorObj.execute(\"INSERT INTO Classmates VALUES(5, 'Aqsa','Islamabad','CS',19,'2002-09-01','Writing',03251254785)\")\n",
    "    cursorObj.execute(\"INSERT INTO Classmates VALUES(6, 'Areesha','Lahore','SE',18,'1999-05-21','Gaming',03125478451)\")\n",
    "    cursorObj.execute(\"INSERT INTO Classmates VALUES(7, 'Abid','Sukkur','CS',17,'2000-03-10','Gardening',03263254857)\")\n",
    "    cursorObj.execute(\"INSERT INTO Classmates VALUES(8, 'Alisha','Karachi','SE',19,'2001-09-01','Swimming',03215485264)\")\n",
    "    cursorObj.execute(\"INSERT INTO Classmates VALUES(9, 'Haji','Hyderabad','CS',18,'1999-05-21','Singing',03265214587)\")\n",
    "    cursorObj.execute(\"INSERT INTO Classmates VALUES(10, 'Aqsa','Hyderabad','SE',19,'1998-05-21','Dancing',03652145272)\")\n",
    "    con.commit()\n",
    "    \n",
    "sql_table(conn)"
   ]
  },
  {
   "cell_type": "code",
   "execution_count": 8,
   "metadata": {},
   "outputs": [],
   "source": [
    "#(b)\n",
    "c = conn.cursor()\n",
    "c.execute('UPDATE Classmates SET Number = 03022554128 WHERE Studentid=1')\n",
    "\n",
    "#(c)\n",
    "c.execute('DELETE FROM Classmates WHERE Studentid = 10')\n",
    "conn.commit()"
   ]
  },
  {
   "cell_type": "code",
   "execution_count": 1,
   "metadata": {
    "scrolled": true
   },
   "outputs": [
    {
     "ename": "NameError",
     "evalue": "name 'c' is not defined",
     "output_type": "error",
     "traceback": [
      "\u001b[1;31m---------------------------------------------------------------------------\u001b[0m",
      "\u001b[1;31mNameError\u001b[0m                                 Traceback (most recent call last)",
      "\u001b[1;32m<ipython-input-1-7106affd1f3d>\u001b[0m in \u001b[0;36m<module>\u001b[1;34m\u001b[0m\n\u001b[0;32m      1\u001b[0m \u001b[1;31m#(d)\u001b[0m\u001b[1;33m\u001b[0m\u001b[1;33m\u001b[0m\u001b[1;33m\u001b[0m\u001b[0m\n\u001b[1;32m----> 2\u001b[1;33m \u001b[0mc\u001b[0m\u001b[1;33m.\u001b[0m\u001b[0mexecute\u001b[0m\u001b[1;33m(\u001b[0m\u001b[1;34m'SELECT * FROM Classmates'\u001b[0m\u001b[1;33m)\u001b[0m\u001b[1;33m\u001b[0m\u001b[1;33m\u001b[0m\u001b[0m\n\u001b[0m\u001b[0;32m      3\u001b[0m \u001b[0mdata\u001b[0m \u001b[1;33m=\u001b[0m \u001b[0mc\u001b[0m\u001b[1;33m.\u001b[0m\u001b[0mfetchall\u001b[0m\u001b[1;33m(\u001b[0m\u001b[1;33m)\u001b[0m\u001b[1;33m\u001b[0m\u001b[1;33m\u001b[0m\u001b[0m\n\u001b[0;32m      4\u001b[0m \u001b[1;32mfor\u001b[0m \u001b[0mrow\u001b[0m \u001b[1;32min\u001b[0m \u001b[0mdata\u001b[0m\u001b[1;33m:\u001b[0m\u001b[1;33m\u001b[0m\u001b[1;33m\u001b[0m\u001b[0m\n\u001b[0;32m      5\u001b[0m     \u001b[0mprint\u001b[0m\u001b[1;33m(\u001b[0m\u001b[0mrow\u001b[0m\u001b[1;33m)\u001b[0m\u001b[1;33m\u001b[0m\u001b[1;33m\u001b[0m\u001b[0m\n",
      "\u001b[1;31mNameError\u001b[0m: name 'c' is not defined"
     ]
    }
   ],
   "source": [
    "#(d)\n",
    "c.execute('SELECT * FROM Classmates')\n",
    "data = c.fetchall()\n",
    "for row in data:\n",
    "    print(row)"
   ]
  },
  {
   "cell_type": "code",
   "execution_count": 12,
   "metadata": {},
   "outputs": [
    {
     "name": "stdout",
     "output_type": "stream",
     "text": [
      "[('Hamza',), ('Ayesha',), ('Alisha',)]\n"
     ]
    }
   ],
   "source": [
    "#(e)\n",
    "c.execute(\"SELECT Name FROM Classmates WHERE Address='Karachi'\")\n",
    "names = c.fetchall()\n",
    "print(names)"
   ]
  },
  {
   "cell_type": "code",
   "execution_count": 13,
   "metadata": {},
   "outputs": [
    {
     "name": "stdout",
     "output_type": "stream",
     "text": [
      "[('Ali',), ('Ayesha',), ('Areesha',), ('Haji',)]\n"
     ]
    }
   ],
   "source": [
    "#(f)\n",
    "c.execute(\"SELECT Name FROM Classmates WHERE Age=18\")\n",
    "names = c.fetchall()\n",
    "print(names)"
   ]
  },
  {
   "cell_type": "code",
   "execution_count": 14,
   "metadata": {},
   "outputs": [
    {
     "name": "stdout",
     "output_type": "stream",
     "text": [
      "[('Asad',)]\n"
     ]
    }
   ],
   "source": [
    "#(g)\n",
    "c.execute(\"SELECT Name FROM Classmates WHERE Hobbies='Programming'\")\n",
    "names = c.fetchall()\n",
    "print(names)"
   ]
  },
  {
   "cell_type": "markdown",
   "metadata": {},
   "source": [
    "# Q.02"
   ]
  },
  {
   "cell_type": "code",
   "execution_count": 20,
   "metadata": {},
   "outputs": [
    {
     "name": "stdout",
     "output_type": "stream",
     "text": [
      "Total No. of rows: 77\n"
     ]
    }
   ],
   "source": [
    "#(a)\n",
    "import sqlite3\n",
    "conn = sqlite3.connect(\"Northwind.db\")\n",
    "def sql_fetch(con):\n",
    "    cursorObj=con.cursor()\n",
    "    cursorObj.execute('SELECT * FROM Products')\n",
    "    rows = cursorObj.fetchall()\n",
    "    length=0\n",
    "    for row in rows:\n",
    "        length+=1\n",
    "    print('Total No. of rows:',length)\n",
    "sql_fetch(conn)"
   ]
  },
  {
   "cell_type": "code",
   "execution_count": 25,
   "metadata": {},
   "outputs": [
    {
     "name": "stdout",
     "output_type": "stream",
     "text": [
      "Total No. of rows is: 8\n"
     ]
    }
   ],
   "source": [
    "#(b)\n",
    "c = conn.cursor()\n",
    "c.execute('SELECT * FROM Categories')\n",
    "rows = c.fetchall()\n",
    "length=0\n",
    "for row in rows:\n",
    "    length += 1\n",
    "print('Total No. of rows is:',length)"
   ]
  },
  {
   "cell_type": "code",
   "execution_count": 29,
   "metadata": {},
   "outputs": [
    {
     "name": "stdout",
     "output_type": "stream",
     "text": [
      "The number of records extracted are: 77\n"
     ]
    }
   ],
   "source": [
    "#(c)\n",
    "c = conn.cursor()\n",
    "c.execute('SELECT ProductName,QuantityPerUnit FROM Products')\n",
    "rows =c.fetchall()\n",
    "length = 0\n",
    "for row in rows:\n",
    "    length += 1\n",
    "print('The number of records extracted are:',length)"
   ]
  },
  {
   "cell_type": "code",
   "execution_count": 36,
   "metadata": {},
   "outputs": [
    {
     "name": "stdout",
     "output_type": "stream",
     "text": [
      "(5, 'Grains/Cereals', 'Breads, crackers, pasta, and cereal')\n"
     ]
    }
   ],
   "source": [
    "#(d)\n",
    "def sql_fetch(con):\n",
    "    c = con.cursor()\n",
    "    c.execute('SELECT CategoryID,CategoryName,Description FROM Categories where CategoryName like \"G%\"')\n",
    "    rows =c.fetchall()\n",
    "    for row in rows:\n",
    "        print(row)\n",
    "sql_fetch(conn)"
   ]
  },
  {
   "cell_type": "code",
   "execution_count": 37,
   "metadata": {},
   "outputs": [
    {
     "name": "stdout",
     "output_type": "stream",
     "text": [
      "[(17, 'Alice Mutton'), (5, \"Chef Anton's Gumbo Mix\"), (24, 'Guaraná Fantástica'), (9, 'Mishi Kobe Niku'), (53, 'Perth Pasties'), (28, 'Rössle Sauerkraut'), (42, 'Singaporean Hokkien Fried Mee'), (29, 'Thüringer Rostbratwurst')]\n"
     ]
    }
   ],
   "source": [
    "#(e)\n",
    "cursorObj = conn.cursor()\n",
    "cursorObj.execute('SELECT ProductID,ProductName FROM Products where discontinued=\"1\" order by ProductName')\n",
    "rows =cursorObj.fetchall()\n",
    "print(rows)"
   ]
  },
  {
   "cell_type": "code",
   "execution_count": 51,
   "metadata": {},
   "outputs": [
    {
     "name": "stdout",
     "output_type": "stream",
     "text": [
      "(3, 'Aniseed Syrup'), (40, 'Boston Crab Meat'), (60, 'Camembert Pierrot'), (18, 'Carnarvon Tigers'), (1, 'Chai'), (2, 'Chang'), (39, 'Chartreuse verte'), (4, \"Chef Anton's Cajun Seasoning\"), (48, 'Chocolade'), (38, 'Côte de Blaye'), (58, 'Escargots de Bourgogne'), (52, 'Filo Mix'), (71, 'Flotemysost'), (33, 'Geitost'), (15, 'Genen Shouyu'), (56, 'Gnocchi di nonna Alice'), (31, 'Gorgonzola Telino'), (6, \"Grandma's Boysenberry Spread\"), (37, 'Gravad lax'), (69, 'Gudbrandsdalsost'), (44, 'Gula Malacca'), (26, 'Gumbär Gummibärchen'), (22, \"Gustaf's Knäckebröd\"), (10, 'Ikura'), (36, 'Inlagd Sill'), (43, 'Ipoh Coffee'), (41, \"Jack's New England Clam Chowder\"), (13, 'Konbu'), (76, 'Lakkalikööri'), (67, 'Laughing Lumberjack Lager'), (74, 'Longlife Tofu'), (65, 'Louisiana Fiery Hot Pepper Sauce'), (66, 'Louisiana Hot Spiced Okra'), (51, 'Manjimup Dried Apples'), (32, 'Mascarpone Fabioli'), (49, 'Maxilaku'), (72, 'Mozzarella di Giovanni'), (30, 'Nord-Ost Matjeshering'), (8, 'Northwoods Cranberry Sauce'), (25, 'NuNuCa Nuß-Nougat-Creme'), (77, 'Original Frankfurter grüne Soße'), (70, 'Outback Lager'), (16, 'Pavlova'), (55, 'Pâté chinois'), (11, 'Queso Cabrales'), (12, 'Queso Manchego La Pastora'), (59, 'Raclette Courdavault'), (57, 'Ravioli Angelo'), (75, 'Rhönbräu Klosterbier'), (45, 'Rogede sild'), (73, 'Röd Kaviar'), (34, 'Sasquatch Ale'), (27, 'Schoggi Schokolade'), (68, 'Scottish Longbreads'), (20, \"Sir Rodney's Marmalade\"), (21, \"Sir Rodney's Scones\"), (61, \"Sirop d'érable\"), (46, 'Spegesild'), (35, 'Steeleye Stout'), (62, 'Tarte au sucre'), (19, 'Teatime Chocolate Biscuits'), (14, 'Tofu'), (54, 'Tourtière'), (23, 'Tunnbröd'), (7, \"Uncle Bob's Organic Dried Pears\"), (50, 'Valkoinen suklaa'), (63, 'Vegie-spread'), (64, 'Wimmers gute Semmelknödel'), (47, 'Zaanse koeken'), "
     ]
    }
   ],
   "source": [
    "#(f)\n",
    "cursorObj = conn.cursor()\n",
    "cursorObj.execute('SELECT ProductID,ProductName FROM Products where discontinued=\"0\" order by ProductName')\n",
    "rows =cursorObj.fetchall()\n",
    "for row in rows:\n",
    "    print(row, end=\", \")"
   ]
  },
  {
   "cell_type": "code",
   "execution_count": 53,
   "metadata": {},
   "outputs": [
    {
     "name": "stdout",
     "output_type": "stream",
     "text": [
      "('Côte de Blaye', 263.5)\n",
      "('Thüringer Rostbratwurst', 123.79)\n",
      "('Mishi Kobe Niku', 97)\n",
      "(\"Sir Rodney's Marmalade\", 81)\n",
      "('Carnarvon Tigers', 62.5)\n",
      "('Raclette Courdavault', 55)\n",
      "('Manjimup Dried Apples', 53)\n",
      "('Tarte au sucre', 49.3)\n",
      "('Ipoh Coffee', 46)\n",
      "('Rössle Sauerkraut', 45.6)\n",
      "('Schoggi Schokolade', 43.9)\n",
      "('Vegie-spread', 43.9)\n",
      "('Northwoods Cranberry Sauce', 40)\n",
      "('Alice Mutton', 39)\n",
      "('Queso Manchego La Pastora', 38)\n",
      "('Gnocchi di nonna Alice', 38)\n",
      "('Gudbrandsdalsost', 36)\n",
      "('Mozzarella di Giovanni', 34.8)\n",
      "('Camembert Pierrot', 34)\n",
      "('Wimmers gute Semmelknödel', 33.25)\n",
      "('Perth Pasties', 32.8)\n",
      "('Mascarpone Fabioli', 32)\n",
      "('Gumbär Gummibärchen', 31.23)\n",
      "('Ikura', 31)\n",
      "(\"Uncle Bob's Organic Dried Pears\", 30)\n",
      "(\"Sirop d'érable\", 28.5)\n",
      "('Gravad lax', 26)\n",
      "('Nord-Ost Matjeshering', 25.89)\n",
      "(\"Grandma's Boysenberry Spread\", 25)\n",
      "('Pâté chinois', 24)\n",
      "('Tofu', 23.25)\n",
      "(\"Chef Anton's Cajun Seasoning\", 22)\n",
      "('Flotemysost', 21.5)\n",
      "(\"Chef Anton's Gumbo Mix\", 21.35)\n",
      "('Louisiana Fiery Hot Pepper Sauce', 21.05)\n",
      "('Queso Cabrales', 21)\n",
      "(\"Gustaf's Knäckebröd\", 21)\n",
      "('Maxilaku', 20)\n",
      "('Ravioli Angelo', 19.5)\n",
      "('Gula Malacca', 19.45)\n",
      "('Chang', 19)\n",
      "('Inlagd Sill', 19)\n",
      "('Boston Crab Meat', 18.4)\n",
      "('Chai', 18)\n",
      "('Steeleye Stout', 18)\n",
      "('Chartreuse verte', 18)\n",
      "('Lakkalikööri', 18)\n",
      "('Pavlova', 17.45)\n",
      "('Louisiana Hot Spiced Okra', 17)\n",
      "('Valkoinen suklaa', 16.25)\n",
      "('Genen Shouyu', 15.5)\n",
      "('Outback Lager', 15)\n",
      "('Röd Kaviar', 15)\n",
      "('NuNuCa Nuß-Nougat-Creme', 14)\n",
      "('Sasquatch Ale', 14)\n",
      "('Singaporean Hokkien Fried Mee', 14)\n",
      "('Laughing Lumberjack Lager', 14)\n",
      "('Escargots de Bourgogne', 13.25)\n",
      "('Original Frankfurter grüne Soße', 13)\n",
      "('Chocolade', 12.75)\n",
      "('Gorgonzola Telino', 12.5)\n",
      "('Scottish Longbreads', 12.5)\n",
      "('Spegesild', 12)\n",
      "('Aniseed Syrup', 10)\n",
      "(\"Sir Rodney's Scones\", 10)\n",
      "('Longlife Tofu', 10)\n",
      "(\"Jack's New England Clam Chowder\", 9.65)\n",
      "('Rogede sild', 9.5)\n",
      "('Zaanse koeken', 9.5)\n",
      "('Teatime Chocolate Biscuits', 9.2)\n",
      "('Tunnbröd', 9)\n",
      "('Rhönbräu Klosterbier', 7.75)\n",
      "('Tourtière', 7.45)\n",
      "('Filo Mix', 7)\n",
      "('Konbu', 6)\n",
      "('Guaraná Fantástica', 4.5)\n",
      "('Geitost', 2.5)\n"
     ]
    }
   ],
   "source": [
    "#(g)\n",
    "cursorObj = conn.cursor()\n",
    "cursorObj.execute(\"select ProductName,UnitPrice from Products order by UnitPrice Desc\")\n",
    "rows=cursorObj.fetchall()\n",
    "for row in rows:\n",
    "    print(row)"
   ]
  },
  {
   "cell_type": "markdown",
   "metadata": {},
   "source": [
    "### In above program, we have obtained the Product name and unit price from products table and it is sorted by descending order."
   ]
  },
  {
   "cell_type": "code",
   "execution_count": 63,
   "metadata": {
    "scrolled": true
   },
   "outputs": [
    {
     "name": "stdout",
     "output_type": "stream",
     "text": [
      "(57, 'Ravioli Angelo', 19.5), (44, 'Gula Malacca', 19.45), (2, 'Chang', 19), (36, 'Inlagd Sill', 19), (40, 'Boston Crab Meat', 18.4), (1, 'Chai', 18), (35, 'Steeleye Stout', 18), (39, 'Chartreuse verte', 18), (76, 'Lakkalikööri', 18), (16, 'Pavlova', 17.45), (66, 'Louisiana Hot Spiced Okra', 17), (50, 'Valkoinen suklaa', 16.25), (15, 'Genen Shouyu', 15.5), (70, 'Outback Lager', 15), (73, 'Röd Kaviar', 15), (25, 'NuNuCa Nuß-Nougat-Creme', 14), (34, 'Sasquatch Ale', 14), (67, 'Laughing Lumberjack Lager', 14), (58, 'Escargots de Bourgogne', 13.25), (77, 'Original Frankfurter grüne Soße', 13), (48, 'Chocolade', 12.75), (31, 'Gorgonzola Telino', 12.5), (68, 'Scottish Longbreads', 12.5), (46, 'Spegesild', 12), (3, 'Aniseed Syrup', 10), (21, \"Sir Rodney's Scones\", 10), (74, 'Longlife Tofu', 10), (41, \"Jack's New England Clam Chowder\", 9.65), (45, 'Rogede sild', 9.5), (47, 'Zaanse koeken', 9.5), (19, 'Teatime Chocolate Biscuits', 9.2), (23, 'Tunnbröd', 9), (75, 'Rhönbräu Klosterbier', 7.75), (54, 'Tourtière', 7.45), (52, 'Filo Mix', 7), (13, 'Konbu', 6), (33, 'Geitost', 2.5), "
     ]
    }
   ],
   "source": [
    "#(h)\n",
    "cursorObj=conn.cursor()\n",
    "cursorObj.execute(\"select ProductID,ProductName,UnitPrice from Products WHERE (((UnitPrice)<20) AND ((Discontinued)=False)) Order by UnitPrice Desc\")\n",
    "rows=cursorObj.fetchall()\n",
    "for row in rows:\n",
    "    print(row, end=', ')"
   ]
  },
  {
   "cell_type": "markdown",
   "metadata": {},
   "source": [
    "#### In above program, we have obtained the name, id and price of products whose price is less than 20 and are not discontinued. "
   ]
  },
  {
   "cell_type": "code",
   "execution_count": 54,
   "metadata": {},
   "outputs": [
    {
     "name": "stdout",
     "output_type": "stream",
     "text": [
      "[(28.866363636363637,)]\n"
     ]
    }
   ],
   "source": [
    "#(i)\n",
    "cursorObj = conn.cursor()\n",
    "cursorObj.execute(\"select avg(UnitPrice) from Products\")\n",
    "average=cursorObj.fetchall()\n",
    "print(average)"
   ]
  },
  {
   "cell_type": "code",
   "execution_count": 56,
   "metadata": {},
   "outputs": [
    {
     "name": "stdout",
     "output_type": "stream",
     "text": [
      "(\"Uncle Bob's Organic Dried Pears\", 30)\n",
      "('Ikura', 31)\n",
      "('Gumbär Gummibärchen', 31.23)\n",
      "('Mascarpone Fabioli', 32)\n",
      "('Perth Pasties', 32.8)\n",
      "('Wimmers gute Semmelknödel', 33.25)\n",
      "('Camembert Pierrot', 34)\n",
      "('Mozzarella di Giovanni', 34.8)\n",
      "('Gudbrandsdalsost', 36)\n",
      "('Queso Manchego La Pastora', 38)\n",
      "('Gnocchi di nonna Alice', 38)\n",
      "('Alice Mutton', 39)\n",
      "('Northwoods Cranberry Sauce', 40)\n",
      "('Schoggi Schokolade', 43.9)\n",
      "('Vegie-spread', 43.9)\n",
      "('Rössle Sauerkraut', 45.6)\n",
      "('Ipoh Coffee', 46)\n",
      "('Tarte au sucre', 49.3)\n",
      "('Manjimup Dried Apples', 53)\n",
      "('Raclette Courdavault', 55)\n",
      "('Carnarvon Tigers', 62.5)\n",
      "(\"Sir Rodney's Marmalade\", 81)\n",
      "('Mishi Kobe Niku', 97)\n",
      "('Thüringer Rostbratwurst', 123.79)\n",
      "('Côte de Blaye', 263.5)\n"
     ]
    }
   ],
   "source": [
    "#(j)\n",
    "cursorObj = conn.cursor()\n",
    "cursorObj.execute('SELECT DISTINCT ProductName,UnitPrice FROM Products where UnitPrice > (select avg(UnitPrice) from Products) order by UnitPrice ')\n",
    "rows =cursorObj.fetchall()\n",
    "for row in rows:\n",
    "    print(row)"
   ]
  }
 ],
 "metadata": {
  "kernelspec": {
   "display_name": "Python 3",
   "language": "python",
   "name": "python3"
  },
  "language_info": {
   "codemirror_mode": {
    "name": "ipython",
    "version": 3
   },
   "file_extension": ".py",
   "mimetype": "text/x-python",
   "name": "python",
   "nbconvert_exporter": "python",
   "pygments_lexer": "ipython3",
   "version": "3.7.3"
  }
 },
 "nbformat": 4,
 "nbformat_minor": 2
}
